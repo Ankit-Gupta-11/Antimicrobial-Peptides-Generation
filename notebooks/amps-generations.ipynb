{
 "cells": [
  {
   "cell_type": "code",
   "execution_count": 1,
   "id": "164e5d51",
   "metadata": {
    "_cell_guid": "b1076dfc-b9ad-4769-8c92-a6c4dae69d19",
    "_uuid": "8f2839f25d086af736a60e9eeb907d3b93b6e0e5",
    "execution": {
     "iopub.execute_input": "2022-01-18T15:05:02.410378Z",
     "iopub.status.busy": "2022-01-18T15:05:02.409134Z",
     "iopub.status.idle": "2022-01-18T15:05:08.206595Z",
     "shell.execute_reply": "2022-01-18T15:05:08.205885Z",
     "shell.execute_reply.started": "2022-01-18T15:02:58.550538Z"
    },
    "papermill": {
     "duration": 5.850278,
     "end_time": "2022-01-18T15:05:08.206761",
     "exception": false,
     "start_time": "2022-01-18T15:05:02.356483",
     "status": "completed"
    },
    "tags": []
   },
   "outputs": [],
   "source": [
    "# This Python 3 environment comes with many helpful analytics libraries installed\n",
    "# It is defined by the kaggle/python Docker image: https://github.com/kaggle/docker-python\n",
    "# For example, here's several helpful packages to load\n",
    "\n",
    "import numpy as np # linear algebra\n",
    "import pandas as pd # data processing, CSV file I/O (e.g. pd.read_csv)\n",
    "import tensorflow as tf\n",
    "import warnings\n",
    "warnings.filterwarnings('ignore')\n",
    "from tqdm.auto import tqdm\n",
    "import torch \n",
    "# Input data files are available in the read-only \"../input/\" directory\n",
    "# For example, running this (by clicking run or pressing Shift+Enter) will list all files under the input directory\n",
    "import os\n",
    "\n",
    "\n",
    "# You can write up to 20GB to the current directory (/kaggle/working/) that gets preserved as output when you create a version using \"Save & Run All\" \n",
    "# You can also write temporary files to /kaggle/temp/, but they won't be saved outside of the current session"
   ]
  },
  {
   "cell_type": "code",
   "execution_count": 2,
   "id": "cb81ecce",
   "metadata": {
    "execution": {
     "iopub.execute_input": "2022-01-18T15:05:08.306106Z",
     "iopub.status.busy": "2022-01-18T15:05:08.305483Z",
     "iopub.status.idle": "2022-01-18T15:05:08.308017Z",
     "shell.execute_reply": "2022-01-18T15:05:08.308514Z",
     "shell.execute_reply.started": "2022-01-18T15:03:36.122628Z"
    },
    "papermill": {
     "duration": 0.053627,
     "end_time": "2022-01-18T15:05:08.308677",
     "exception": false,
     "start_time": "2022-01-18T15:05:08.255050",
     "status": "completed"
    },
    "scrolled": true,
    "tags": []
   },
   "outputs": [],
   "source": [
    "# # !pip install -U pip > /dev/null\n",
    "# !pip install bio_embeddings[all]"
   ]
  },
  {
   "cell_type": "code",
   "execution_count": 3,
   "id": "4d456ad9",
   "metadata": {
    "execution": {
     "iopub.execute_input": "2022-01-18T15:05:08.409362Z",
     "iopub.status.busy": "2022-01-18T15:05:08.408751Z",
     "iopub.status.idle": "2022-01-18T15:05:08.520777Z",
     "shell.execute_reply": "2022-01-18T15:05:08.521266Z",
     "shell.execute_reply.started": "2022-01-18T15:03:36.440291Z"
    },
    "papermill": {
     "duration": 0.162923,
     "end_time": "2022-01-18T15:05:08.521489",
     "exception": false,
     "start_time": "2022-01-18T15:05:08.358566",
     "status": "completed"
    },
    "tags": []
   },
   "outputs": [],
   "source": [
    "df = pd.read_csv('../input/anti-microbial-peptides-data/data/AMP_dataset.csv')\n",
    "# df = pd.read_csv('../input/anti-microbial-peptides-data/Datasets/Generative model dataset/amp_dataset.csv', names = ['PepSeq', 'MIC'])\n"
   ]
  },
  {
   "cell_type": "code",
   "execution_count": 4,
   "id": "ade6b74f",
   "metadata": {
    "execution": {
     "iopub.execute_input": "2022-01-18T15:05:08.631366Z",
     "iopub.status.busy": "2022-01-18T15:05:08.630727Z",
     "iopub.status.idle": "2022-01-18T15:05:08.653098Z",
     "shell.execute_reply": "2022-01-18T15:05:08.653587Z",
     "shell.execute_reply.started": "2022-01-18T15:03:39.240118Z"
    },
    "papermill": {
     "duration": 0.084225,
     "end_time": "2022-01-18T15:05:08.653747",
     "exception": false,
     "start_time": "2022-01-18T15:05:08.569522",
     "status": "completed"
    },
    "tags": []
   },
   "outputs": [
    {
     "data": {
      "text/html": [
       "<div>\n",
       "<style scoped>\n",
       "    .dataframe tbody tr th:only-of-type {\n",
       "        vertical-align: middle;\n",
       "    }\n",
       "\n",
       "    .dataframe tbody tr th {\n",
       "        vertical-align: top;\n",
       "    }\n",
       "\n",
       "    .dataframe thead th {\n",
       "        text-align: right;\n",
       "    }\n",
       "</style>\n",
       "<table border=\"1\" class=\"dataframe\">\n",
       "  <thead>\n",
       "    <tr style=\"text-align: right;\">\n",
       "      <th></th>\n",
       "      <th>Database</th>\n",
       "      <th>PepID</th>\n",
       "      <th>PepType</th>\n",
       "      <th>PepSeq</th>\n",
       "      <th>PepLabel</th>\n",
       "      <th>ADAM_HMM</th>\n",
       "      <th>ADAM_SVM</th>\n",
       "      <th>AMPA</th>\n",
       "      <th>CMPR3_ANN</th>\n",
       "      <th>CMPR3_DA</th>\n",
       "      <th>CMPR3_RF</th>\n",
       "      <th>CMPR3_SVM</th>\n",
       "      <th>DBAASP</th>\n",
       "    </tr>\n",
       "  </thead>\n",
       "  <tbody>\n",
       "    <tr>\n",
       "      <th>0</th>\n",
       "      <td>A</td>\n",
       "      <td>A00001</td>\n",
       "      <td>T</td>\n",
       "      <td>GLWSKIKEVGKEAAKAAAKAAGKAALGAVSEAV</td>\n",
       "      <td>1</td>\n",
       "      <td>1</td>\n",
       "      <td>1</td>\n",
       "      <td>0.00</td>\n",
       "      <td>1</td>\n",
       "      <td>0.999</td>\n",
       "      <td>0.9355</td>\n",
       "      <td>0.957</td>\n",
       "      <td>1</td>\n",
       "    </tr>\n",
       "    <tr>\n",
       "      <th>1</th>\n",
       "      <td>A</td>\n",
       "      <td>A00002</td>\n",
       "      <td>T</td>\n",
       "      <td>YVPLPNVPQPGRRPFPTFPGQGPFNPKIKWPQGY</td>\n",
       "      <td>1</td>\n",
       "      <td>1</td>\n",
       "      <td>1</td>\n",
       "      <td>0.00</td>\n",
       "      <td>0</td>\n",
       "      <td>0.047</td>\n",
       "      <td>0.5810</td>\n",
       "      <td>0.500</td>\n",
       "      <td>1</td>\n",
       "    </tr>\n",
       "    <tr>\n",
       "      <th>2</th>\n",
       "      <td>A</td>\n",
       "      <td>A00003</td>\n",
       "      <td>T</td>\n",
       "      <td>NLCERASLTWTGNCGNTGHCDTQCRNWESAKHGACHKRGNWKCFCYFDC</td>\n",
       "      <td>1</td>\n",
       "      <td>1</td>\n",
       "      <td>1</td>\n",
       "      <td>0.96</td>\n",
       "      <td>1</td>\n",
       "      <td>0.971</td>\n",
       "      <td>0.9130</td>\n",
       "      <td>0.873</td>\n",
       "      <td>0</td>\n",
       "    </tr>\n",
       "    <tr>\n",
       "      <th>3</th>\n",
       "      <td>A</td>\n",
       "      <td>A00004</td>\n",
       "      <td>T</td>\n",
       "      <td>VFIDILDKVENAIHNAAQVGIGFAKPFEKLINPK</td>\n",
       "      <td>1</td>\n",
       "      <td>1</td>\n",
       "      <td>1</td>\n",
       "      <td>0.00</td>\n",
       "      <td>1</td>\n",
       "      <td>0.943</td>\n",
       "      <td>0.7955</td>\n",
       "      <td>0.842</td>\n",
       "      <td>1</td>\n",
       "    </tr>\n",
       "    <tr>\n",
       "      <th>4</th>\n",
       "      <td>A</td>\n",
       "      <td>A00005</td>\n",
       "      <td>T</td>\n",
       "      <td>GNNRPVYIPQPRPPHPRI</td>\n",
       "      <td>1</td>\n",
       "      <td>1</td>\n",
       "      <td>1</td>\n",
       "      <td>0.00</td>\n",
       "      <td>1</td>\n",
       "      <td>0.941</td>\n",
       "      <td>0.9655</td>\n",
       "      <td>0.870</td>\n",
       "      <td>1</td>\n",
       "    </tr>\n",
       "    <tr>\n",
       "      <th>...</th>\n",
       "      <td>...</td>\n",
       "      <td>...</td>\n",
       "      <td>...</td>\n",
       "      <td>...</td>\n",
       "      <td>...</td>\n",
       "      <td>...</td>\n",
       "      <td>...</td>\n",
       "      <td>...</td>\n",
       "      <td>...</td>\n",
       "      <td>...</td>\n",
       "      <td>...</td>\n",
       "      <td>...</td>\n",
       "      <td>...</td>\n",
       "    </tr>\n",
       "    <tr>\n",
       "      <th>20719</th>\n",
       "      <td>D</td>\n",
       "      <td>D04804</td>\n",
       "      <td>T</td>\n",
       "      <td>VMFNTFKMRHDVTKTIRNFLDTEDFLEVETPILTKSTPEGARDYLV...</td>\n",
       "      <td>0</td>\n",
       "      <td>0</td>\n",
       "      <td>0</td>\n",
       "      <td>0.00</td>\n",
       "      <td>0</td>\n",
       "      <td>1.000</td>\n",
       "      <td>0.9470</td>\n",
       "      <td>1.000</td>\n",
       "      <td>-999</td>\n",
       "    </tr>\n",
       "    <tr>\n",
       "      <th>20720</th>\n",
       "      <td>D</td>\n",
       "      <td>D04806</td>\n",
       "      <td>T</td>\n",
       "      <td>AIENGATAYLAEEDYGVSVPVILVKNVRKALSLAAQLYFDFPQNDL...</td>\n",
       "      <td>0</td>\n",
       "      <td>0</td>\n",
       "      <td>0</td>\n",
       "      <td>0.00</td>\n",
       "      <td>0</td>\n",
       "      <td>1.000</td>\n",
       "      <td>0.9205</td>\n",
       "      <td>1.000</td>\n",
       "      <td>-999</td>\n",
       "    </tr>\n",
       "    <tr>\n",
       "      <th>20721</th>\n",
       "      <td>D</td>\n",
       "      <td>D04807</td>\n",
       "      <td>T</td>\n",
       "      <td>WGLTNEEVALADEIVTFPVNPAFASLNIAQAVLLMSYEWMKSGMDD...</td>\n",
       "      <td>0</td>\n",
       "      <td>0</td>\n",
       "      <td>0</td>\n",
       "      <td>0.00</td>\n",
       "      <td>0</td>\n",
       "      <td>1.000</td>\n",
       "      <td>0.9575</td>\n",
       "      <td>1.000</td>\n",
       "      <td>-999</td>\n",
       "    </tr>\n",
       "    <tr>\n",
       "      <th>20722</th>\n",
       "      <td>D</td>\n",
       "      <td>D04831</td>\n",
       "      <td>T</td>\n",
       "      <td>TADELEVGMGKVGMPLRVAVTGAGQSPALDVTVHAIGKSRSVDRIN...</td>\n",
       "      <td>0</td>\n",
       "      <td>0</td>\n",
       "      <td>0</td>\n",
       "      <td>0.00</td>\n",
       "      <td>1</td>\n",
       "      <td>1.000</td>\n",
       "      <td>-999.0000</td>\n",
       "      <td>1.000</td>\n",
       "      <td>-999</td>\n",
       "    </tr>\n",
       "    <tr>\n",
       "      <th>20723</th>\n",
       "      <td>D</td>\n",
       "      <td>D03740</td>\n",
       "      <td>T</td>\n",
       "      <td>KYMAVRYEDLVENPIKTLKQVYGFVNLSVSHDIEKFALNMTSGSSY...</td>\n",
       "      <td>0</td>\n",
       "      <td>0</td>\n",
       "      <td>0</td>\n",
       "      <td>0.00</td>\n",
       "      <td>0</td>\n",
       "      <td>1.000</td>\n",
       "      <td>0.8955</td>\n",
       "      <td>1.000</td>\n",
       "      <td>-999</td>\n",
       "    </tr>\n",
       "  </tbody>\n",
       "</table>\n",
       "<p>20724 rows × 13 columns</p>\n",
       "</div>"
      ],
      "text/plain": [
       "      Database   PepID PepType  \\\n",
       "0            A  A00001       T   \n",
       "1            A  A00002       T   \n",
       "2            A  A00003       T   \n",
       "3            A  A00004       T   \n",
       "4            A  A00005       T   \n",
       "...        ...     ...     ...   \n",
       "20719        D  D04804       T   \n",
       "20720        D  D04806       T   \n",
       "20721        D  D04807       T   \n",
       "20722        D  D04831       T   \n",
       "20723        D  D03740       T   \n",
       "\n",
       "                                                  PepSeq  PepLabel  ADAM_HMM  \\\n",
       "0                      GLWSKIKEVGKEAAKAAAKAAGKAALGAVSEAV         1         1   \n",
       "1                     YVPLPNVPQPGRRPFPTFPGQGPFNPKIKWPQGY         1         1   \n",
       "2      NLCERASLTWTGNCGNTGHCDTQCRNWESAKHGACHKRGNWKCFCYFDC         1         1   \n",
       "3                     VFIDILDKVENAIHNAAQVGIGFAKPFEKLINPK         1         1   \n",
       "4                                     GNNRPVYIPQPRPPHPRI         1         1   \n",
       "...                                                  ...       ...       ...   \n",
       "20719  VMFNTFKMRHDVTKTIRNFLDTEDFLEVETPILTKSTPEGARDYLV...         0         0   \n",
       "20720  AIENGATAYLAEEDYGVSVPVILVKNVRKALSLAAQLYFDFPQNDL...         0         0   \n",
       "20721  WGLTNEEVALADEIVTFPVNPAFASLNIAQAVLLMSYEWMKSGMDD...         0         0   \n",
       "20722  TADELEVGMGKVGMPLRVAVTGAGQSPALDVTVHAIGKSRSVDRIN...         0         0   \n",
       "20723  KYMAVRYEDLVENPIKTLKQVYGFVNLSVSHDIEKFALNMTSGSSY...         0         0   \n",
       "\n",
       "       ADAM_SVM  AMPA  CMPR3_ANN  CMPR3_DA  CMPR3_RF  CMPR3_SVM  DBAASP  \n",
       "0             1  0.00          1     0.999    0.9355      0.957       1  \n",
       "1             1  0.00          0     0.047    0.5810      0.500       1  \n",
       "2             1  0.96          1     0.971    0.9130      0.873       0  \n",
       "3             1  0.00          1     0.943    0.7955      0.842       1  \n",
       "4             1  0.00          1     0.941    0.9655      0.870       1  \n",
       "...         ...   ...        ...       ...       ...        ...     ...  \n",
       "20719         0  0.00          0     1.000    0.9470      1.000    -999  \n",
       "20720         0  0.00          0     1.000    0.9205      1.000    -999  \n",
       "20721         0  0.00          0     1.000    0.9575      1.000    -999  \n",
       "20722         0  0.00          1     1.000 -999.0000      1.000    -999  \n",
       "20723         0  0.00          0     1.000    0.8955      1.000    -999  \n",
       "\n",
       "[20724 rows x 13 columns]"
      ]
     },
     "execution_count": 4,
     "metadata": {},
     "output_type": "execute_result"
    }
   ],
   "source": [
    "df"
   ]
  },
  {
   "cell_type": "code",
   "execution_count": 5,
   "id": "71bd169b",
   "metadata": {
    "execution": {
     "iopub.execute_input": "2022-01-18T15:05:08.757330Z",
     "iopub.status.busy": "2022-01-18T15:05:08.756684Z",
     "iopub.status.idle": "2022-01-18T15:05:08.759374Z",
     "shell.execute_reply": "2022-01-18T15:05:08.758881Z",
     "shell.execute_reply.started": "2022-01-18T14:31:25.812036Z"
    },
    "papermill": {
     "duration": 0.055187,
     "end_time": "2022-01-18T15:05:08.759516",
     "exception": false,
     "start_time": "2022-01-18T15:05:08.704329",
     "status": "completed"
    },
    "tags": []
   },
   "outputs": [],
   "source": [
    "# df.PepType.value_counts()"
   ]
  },
  {
   "cell_type": "markdown",
   "id": "d58af153",
   "metadata": {
    "papermill": {
     "duration": 0.048146,
     "end_time": "2022-01-18T15:05:08.856647",
     "exception": false,
     "start_time": "2022-01-18T15:05:08.808501",
     "status": "completed"
    },
    "tags": []
   },
   "source": [
    "The training data were defined as each residue excluding the last residue of\n",
    "the sequence, while the targets were the respective next residues for each position. For\n",
    "example, for the sequence VDKGSYRPRPTPPKPIYNRN, VDKGSYRPRPTPPKPIYNR was\n",
    "the training data, and DKGSYRPRPTPPKPIYNRN the target."
   ]
  },
  {
   "cell_type": "code",
   "execution_count": 6,
   "id": "83f1a438",
   "metadata": {
    "execution": {
     "iopub.execute_input": "2022-01-18T15:05:08.956463Z",
     "iopub.status.busy": "2022-01-18T15:05:08.955842Z",
     "iopub.status.idle": "2022-01-18T15:05:09.606229Z",
     "shell.execute_reply": "2022-01-18T15:05:09.605705Z",
     "shell.execute_reply.started": "2022-01-18T15:03:43.789181Z"
    },
    "papermill": {
     "duration": 0.701324,
     "end_time": "2022-01-18T15:05:09.606402",
     "exception": false,
     "start_time": "2022-01-18T15:05:08.905078",
     "status": "completed"
    },
    "tags": []
   },
   "outputs": [],
   "source": [
    "from __future__ import print_function\n",
    "from keras.callbacks import LambdaCallback\n",
    "from keras.models import Sequential\n",
    "from keras.layers import Dense\n",
    "from keras.layers import LSTM\n",
    "from keras.optimizer_v2 import rmsprop\n",
    "from keras.utils.data_utils import get_file\n",
    "import numpy as np\n",
    "import random\n",
    "import sys\n",
    "import io\n",
    "import pandas as pd"
   ]
  },
  {
   "cell_type": "code",
   "execution_count": 7,
   "id": "912f797c",
   "metadata": {
    "execution": {
     "iopub.execute_input": "2022-01-18T15:05:09.708350Z",
     "iopub.status.busy": "2022-01-18T15:05:09.707727Z",
     "iopub.status.idle": "2022-01-18T15:05:09.709389Z",
     "shell.execute_reply": "2022-01-18T15:05:09.709872Z",
     "shell.execute_reply.started": "2022-01-18T15:03:46.326615Z"
    },
    "papermill": {
     "duration": 0.055047,
     "end_time": "2022-01-18T15:05:09.710021",
     "exception": false,
     "start_time": "2022-01-18T15:05:09.654974",
     "status": "completed"
    },
    "tags": []
   },
   "outputs": [],
   "source": [
    "def splitter(seq):\n",
    "    seqs = []\n",
    "    for s in seq:\n",
    "        seqs.append(s)\n",
    "    return seqs"
   ]
  },
  {
   "cell_type": "code",
   "execution_count": 8,
   "id": "9759ca64",
   "metadata": {
    "execution": {
     "iopub.execute_input": "2022-01-18T15:05:09.810489Z",
     "iopub.status.busy": "2022-01-18T15:05:09.809872Z",
     "iopub.status.idle": "2022-01-18T15:05:09.906010Z",
     "shell.execute_reply": "2022-01-18T15:05:09.906564Z",
     "shell.execute_reply.started": "2022-01-18T15:03:46.624093Z"
    },
    "papermill": {
     "duration": 0.147799,
     "end_time": "2022-01-18T15:05:09.906740",
     "exception": false,
     "start_time": "2022-01-18T15:05:09.758941",
     "status": "completed"
    },
    "tags": []
   },
   "outputs": [],
   "source": [
    "df.loc[:, 'PepSeq'] = df.PepSeq.map(splitter)\n"
   ]
  },
  {
   "cell_type": "code",
   "execution_count": 9,
   "id": "647d5840",
   "metadata": {
    "execution": {
     "iopub.execute_input": "2022-01-18T15:05:10.009548Z",
     "iopub.status.busy": "2022-01-18T15:05:10.008921Z",
     "iopub.status.idle": "2022-01-18T15:05:10.024629Z",
     "shell.execute_reply": "2022-01-18T15:05:10.025066Z",
     "shell.execute_reply.started": "2022-01-18T15:03:49.576912Z"
    },
    "papermill": {
     "duration": 0.069789,
     "end_time": "2022-01-18T15:05:10.025235",
     "exception": false,
     "start_time": "2022-01-18T15:05:09.955446",
     "status": "completed"
    },
    "tags": []
   },
   "outputs": [
    {
     "data": {
      "text/html": [
       "<div>\n",
       "<style scoped>\n",
       "    .dataframe tbody tr th:only-of-type {\n",
       "        vertical-align: middle;\n",
       "    }\n",
       "\n",
       "    .dataframe tbody tr th {\n",
       "        vertical-align: top;\n",
       "    }\n",
       "\n",
       "    .dataframe thead th {\n",
       "        text-align: right;\n",
       "    }\n",
       "</style>\n",
       "<table border=\"1\" class=\"dataframe\">\n",
       "  <thead>\n",
       "    <tr style=\"text-align: right;\">\n",
       "      <th></th>\n",
       "      <th>Database</th>\n",
       "      <th>PepID</th>\n",
       "      <th>PepType</th>\n",
       "      <th>PepSeq</th>\n",
       "      <th>PepLabel</th>\n",
       "      <th>ADAM_HMM</th>\n",
       "      <th>ADAM_SVM</th>\n",
       "      <th>AMPA</th>\n",
       "      <th>CMPR3_ANN</th>\n",
       "      <th>CMPR3_DA</th>\n",
       "      <th>CMPR3_RF</th>\n",
       "      <th>CMPR3_SVM</th>\n",
       "      <th>DBAASP</th>\n",
       "    </tr>\n",
       "  </thead>\n",
       "  <tbody>\n",
       "    <tr>\n",
       "      <th>0</th>\n",
       "      <td>A</td>\n",
       "      <td>A00001</td>\n",
       "      <td>T</td>\n",
       "      <td>[G, L, W, S, K, I, K, E, V, G, K, E, A, A, K, ...</td>\n",
       "      <td>1</td>\n",
       "      <td>1</td>\n",
       "      <td>1</td>\n",
       "      <td>0.00</td>\n",
       "      <td>1</td>\n",
       "      <td>0.999</td>\n",
       "      <td>0.9355</td>\n",
       "      <td>0.957</td>\n",
       "      <td>1</td>\n",
       "    </tr>\n",
       "    <tr>\n",
       "      <th>1</th>\n",
       "      <td>A</td>\n",
       "      <td>A00002</td>\n",
       "      <td>T</td>\n",
       "      <td>[Y, V, P, L, P, N, V, P, Q, P, G, R, R, P, F, ...</td>\n",
       "      <td>1</td>\n",
       "      <td>1</td>\n",
       "      <td>1</td>\n",
       "      <td>0.00</td>\n",
       "      <td>0</td>\n",
       "      <td>0.047</td>\n",
       "      <td>0.5810</td>\n",
       "      <td>0.500</td>\n",
       "      <td>1</td>\n",
       "    </tr>\n",
       "    <tr>\n",
       "      <th>2</th>\n",
       "      <td>A</td>\n",
       "      <td>A00003</td>\n",
       "      <td>T</td>\n",
       "      <td>[N, L, C, E, R, A, S, L, T, W, T, G, N, C, G, ...</td>\n",
       "      <td>1</td>\n",
       "      <td>1</td>\n",
       "      <td>1</td>\n",
       "      <td>0.96</td>\n",
       "      <td>1</td>\n",
       "      <td>0.971</td>\n",
       "      <td>0.9130</td>\n",
       "      <td>0.873</td>\n",
       "      <td>0</td>\n",
       "    </tr>\n",
       "    <tr>\n",
       "      <th>3</th>\n",
       "      <td>A</td>\n",
       "      <td>A00004</td>\n",
       "      <td>T</td>\n",
       "      <td>[V, F, I, D, I, L, D, K, V, E, N, A, I, H, N, ...</td>\n",
       "      <td>1</td>\n",
       "      <td>1</td>\n",
       "      <td>1</td>\n",
       "      <td>0.00</td>\n",
       "      <td>1</td>\n",
       "      <td>0.943</td>\n",
       "      <td>0.7955</td>\n",
       "      <td>0.842</td>\n",
       "      <td>1</td>\n",
       "    </tr>\n",
       "    <tr>\n",
       "      <th>4</th>\n",
       "      <td>A</td>\n",
       "      <td>A00005</td>\n",
       "      <td>T</td>\n",
       "      <td>[G, N, N, R, P, V, Y, I, P, Q, P, R, P, P, H, ...</td>\n",
       "      <td>1</td>\n",
       "      <td>1</td>\n",
       "      <td>1</td>\n",
       "      <td>0.00</td>\n",
       "      <td>1</td>\n",
       "      <td>0.941</td>\n",
       "      <td>0.9655</td>\n",
       "      <td>0.870</td>\n",
       "      <td>1</td>\n",
       "    </tr>\n",
       "  </tbody>\n",
       "</table>\n",
       "</div>"
      ],
      "text/plain": [
       "  Database   PepID PepType                                             PepSeq  \\\n",
       "0        A  A00001       T  [G, L, W, S, K, I, K, E, V, G, K, E, A, A, K, ...   \n",
       "1        A  A00002       T  [Y, V, P, L, P, N, V, P, Q, P, G, R, R, P, F, ...   \n",
       "2        A  A00003       T  [N, L, C, E, R, A, S, L, T, W, T, G, N, C, G, ...   \n",
       "3        A  A00004       T  [V, F, I, D, I, L, D, K, V, E, N, A, I, H, N, ...   \n",
       "4        A  A00005       T  [G, N, N, R, P, V, Y, I, P, Q, P, R, P, P, H, ...   \n",
       "\n",
       "   PepLabel  ADAM_HMM  ADAM_SVM  AMPA  CMPR3_ANN  CMPR3_DA  CMPR3_RF  \\\n",
       "0         1         1         1  0.00          1     0.999    0.9355   \n",
       "1         1         1         1  0.00          0     0.047    0.5810   \n",
       "2         1         1         1  0.96          1     0.971    0.9130   \n",
       "3         1         1         1  0.00          1     0.943    0.7955   \n",
       "4         1         1         1  0.00          1     0.941    0.9655   \n",
       "\n",
       "   CMPR3_SVM  DBAASP  \n",
       "0      0.957       1  \n",
       "1      0.500       1  \n",
       "2      0.873       0  \n",
       "3      0.842       1  \n",
       "4      0.870       1  "
      ]
     },
     "execution_count": 9,
     "metadata": {},
     "output_type": "execute_result"
    }
   ],
   "source": [
    "df.head()"
   ]
  },
  {
   "cell_type": "code",
   "execution_count": 10,
   "id": "47e54e72",
   "metadata": {
    "execution": {
     "iopub.execute_input": "2022-01-18T15:05:10.128248Z",
     "iopub.status.busy": "2022-01-18T15:05:10.127357Z",
     "iopub.status.idle": "2022-01-18T15:05:10.133305Z",
     "shell.execute_reply": "2022-01-18T15:05:10.133874Z",
     "shell.execute_reply.started": "2022-01-18T15:03:53.179977Z"
    },
    "papermill": {
     "duration": 0.059402,
     "end_time": "2022-01-18T15:05:10.134027",
     "exception": false,
     "start_time": "2022-01-18T15:05:10.074625",
     "status": "completed"
    },
    "tags": []
   },
   "outputs": [],
   "source": [
    "text = list(df.PepSeq)"
   ]
  },
  {
   "cell_type": "code",
   "execution_count": 11,
   "id": "eb2c32a6",
   "metadata": {
    "execution": {
     "iopub.execute_input": "2022-01-18T15:05:10.235853Z",
     "iopub.status.busy": "2022-01-18T15:05:10.235171Z",
     "iopub.status.idle": "2022-01-18T15:05:10.240755Z",
     "shell.execute_reply": "2022-01-18T15:05:10.240238Z",
     "shell.execute_reply.started": "2022-01-18T15:03:55.699165Z"
    },
    "papermill": {
     "duration": 0.057719,
     "end_time": "2022-01-18T15:05:10.240906",
     "exception": false,
     "start_time": "2022-01-18T15:05:10.183187",
     "status": "completed"
    },
    "tags": []
   },
   "outputs": [
    {
     "name": "stdout",
     "output_type": "stream",
     "text": [
      "[['R', 'R', 'I', 'R', 'P', 'R', 'P', 'P', 'R', 'L', 'P', 'R', 'P', 'R', 'P', 'R', 'P', 'L', 'P', 'F', 'P', 'R', 'P', 'G', 'P', 'R', 'P', 'I', 'P', 'R', 'P', 'L', 'P', 'F', 'P', 'R', 'P', 'G', 'P', 'R', 'P', 'I', 'P', 'R', 'P', 'L', 'P', 'F', 'P', 'R', 'P', 'G', 'P', 'R', 'P', 'I', 'P', 'R', 'P', 'L'], ['W', 'N', 'P', 'F', 'K', 'E', 'L', 'E', 'R', 'A', 'G', 'Q', 'R', 'V', 'R', 'D', 'A', 'V', 'I', 'S', 'A', 'A', 'P', 'A', 'V', 'A', 'T', 'V', 'G', 'Q', 'A', 'A', 'A', 'I', 'A', 'R', 'G']]\n"
     ]
    }
   ],
   "source": [
    "print(text[7:9])"
   ]
  },
  {
   "cell_type": "code",
   "execution_count": 12,
   "id": "b95e9f8c",
   "metadata": {
    "execution": {
     "iopub.execute_input": "2022-01-18T15:05:10.345243Z",
     "iopub.status.busy": "2022-01-18T15:05:10.344658Z",
     "iopub.status.idle": "2022-01-18T15:05:10.347404Z",
     "shell.execute_reply": "2022-01-18T15:05:10.347957Z",
     "shell.execute_reply.started": "2022-01-18T14:31:26.520139Z"
    },
    "papermill": {
     "duration": 0.055158,
     "end_time": "2022-01-18T15:05:10.348103",
     "exception": false,
     "start_time": "2022-01-18T15:05:10.292945",
     "status": "completed"
    },
    "tags": []
   },
   "outputs": [],
   "source": [
    "\n",
    "# path = get_file(\n",
    "#     'nietzsche.txt',\n",
    "#     origin='https://s3.amazonaws.com/text-datasets/nietzsche.txt')\n",
    "# with io.open(path, encoding='utf-8') as f:\n",
    "#     text = f.read().lower()\n"
   ]
  },
  {
   "cell_type": "code",
   "execution_count": null,
   "id": "7c620ba0",
   "metadata": {
    "papermill": {
     "duration": 0.049889,
     "end_time": "2022-01-18T15:05:10.447385",
     "exception": false,
     "start_time": "2022-01-18T15:05:10.397496",
     "status": "completed"
    },
    "tags": []
   },
   "outputs": [],
   "source": []
  },
  {
   "cell_type": "code",
   "execution_count": 13,
   "id": "5c79197c",
   "metadata": {
    "execution": {
     "iopub.execute_input": "2022-01-18T15:05:10.549255Z",
     "iopub.status.busy": "2022-01-18T15:05:10.548676Z",
     "iopub.status.idle": "2022-01-18T15:05:10.566929Z",
     "shell.execute_reply": "2022-01-18T15:05:10.566415Z",
     "shell.execute_reply.started": "2022-01-18T15:03:58.942198Z"
    },
    "papermill": {
     "duration": 0.070104,
     "end_time": "2022-01-18T15:05:10.567070",
     "exception": false,
     "start_time": "2022-01-18T15:05:10.496966",
     "status": "completed"
    },
    "tags": []
   },
   "outputs": [],
   "source": [
    "import itertools\n",
    "\n",
    "corpus = list(itertools.chain.from_iterable(text))\n",
    "corpus.append('\\n')"
   ]
  },
  {
   "cell_type": "code",
   "execution_count": 14,
   "id": "8ae7dc4c",
   "metadata": {
    "execution": {
     "iopub.execute_input": "2022-01-18T15:05:10.679875Z",
     "iopub.status.busy": "2022-01-18T15:05:10.678860Z",
     "iopub.status.idle": "2022-01-18T15:05:10.683486Z",
     "shell.execute_reply": "2022-01-18T15:05:10.682928Z",
     "shell.execute_reply.started": "2022-01-18T15:04:00.959838Z"
    },
    "papermill": {
     "duration": 0.066508,
     "end_time": "2022-01-18T15:05:10.683634",
     "exception": false,
     "start_time": "2022-01-18T15:05:10.617126",
     "status": "completed"
    },
    "tags": []
   },
   "outputs": [
    {
     "name": "stdout",
     "output_type": "stream",
     "text": [
      "corpus length: 20724\n",
      "total chars: 25\n"
     ]
    }
   ],
   "source": [
    "print('corpus length:', len(text))\n",
    "\n",
    "chars = sorted(list(set(corpus)))\n",
    "print('total chars:', len(chars))\n",
    "char_indices = dict((c, i) for i, c in enumerate(chars))\n",
    "indices_char = dict((i, c) for i, c in enumerate(chars))"
   ]
  },
  {
   "cell_type": "code",
   "execution_count": null,
   "id": "422b0297",
   "metadata": {
    "papermill": {
     "duration": 0.049615,
     "end_time": "2022-01-18T15:05:10.783992",
     "exception": false,
     "start_time": "2022-01-18T15:05:10.734377",
     "status": "completed"
    },
    "tags": []
   },
   "outputs": [],
   "source": []
  },
  {
   "cell_type": "code",
   "execution_count": 15,
   "id": "e1c770bd",
   "metadata": {
    "execution": {
     "iopub.execute_input": "2022-01-18T15:05:10.887127Z",
     "iopub.status.busy": "2022-01-18T15:05:10.886514Z",
     "iopub.status.idle": "2022-01-18T15:05:10.913177Z",
     "shell.execute_reply": "2022-01-18T15:05:10.913810Z",
     "shell.execute_reply.started": "2022-01-18T15:04:05.417495Z"
    },
    "papermill": {
     "duration": 0.079959,
     "end_time": "2022-01-18T15:05:10.913979",
     "exception": false,
     "start_time": "2022-01-18T15:05:10.834020",
     "status": "completed"
    },
    "tags": []
   },
   "outputs": [
    {
     "name": "stdout",
     "output_type": "stream",
     "text": [
      "nb sequences: 4409\n"
     ]
    }
   ],
   "source": [
    "# cut the text in semi-redundant sequences of maxlen characters\n",
    "maxlen = 21\n",
    "sentences = []\n",
    "next_chars = []\n",
    "for i, t in enumerate(text):\n",
    "    if len(t) < maxlen:\n",
    "        sentences.append(t)\n",
    "        t = t[1:] + ['\\n']\n",
    "        next_chars.append(t)\n",
    "print('nb sequences:', len(sentences))\n"
   ]
  },
  {
   "cell_type": "code",
   "execution_count": null,
   "id": "14a0055c",
   "metadata": {
    "papermill": {
     "duration": 0.050332,
     "end_time": "2022-01-18T15:05:11.015796",
     "exception": false,
     "start_time": "2022-01-18T15:05:10.965464",
     "status": "completed"
    },
    "tags": []
   },
   "outputs": [],
   "source": []
  },
  {
   "cell_type": "code",
   "execution_count": 16,
   "id": "010de538",
   "metadata": {
    "execution": {
     "iopub.execute_input": "2022-01-18T15:05:11.129869Z",
     "iopub.status.busy": "2022-01-18T15:05:11.124397Z",
     "iopub.status.idle": "2022-01-18T15:05:11.229845Z",
     "shell.execute_reply": "2022-01-18T15:05:11.230535Z",
     "shell.execute_reply.started": "2022-01-18T15:04:21.564292Z"
    },
    "papermill": {
     "duration": 0.163287,
     "end_time": "2022-01-18T15:05:11.230766",
     "exception": false,
     "start_time": "2022-01-18T15:05:11.067479",
     "status": "completed"
    },
    "tags": []
   },
   "outputs": [
    {
     "name": "stdout",
     "output_type": "stream",
     "text": [
      "Vectorization...\n"
     ]
    }
   ],
   "source": [
    "# print('Vectorization...')\n",
    "# x = np.zeros((len(sentences), maxlen, len(chars)), dtype=np.bool)\n",
    "# y = np.zeros((len(sentences), len(chars)), dtype=np.bool)\n",
    "# for i, sentence in enumerate(sentences):\n",
    "#     for t, char in enumerate(sentence):\n",
    "#         x[i, t, char_indices[char]] = 1\n",
    "#     y[i, char_indices[next_chars[i]]] = 1\n",
    "\n",
    "    \n",
    "    \n",
    "print('Vectorization...')\n",
    "x = np.zeros((len(sentences), maxlen, len(chars)))\n",
    "y = np.zeros((len(sentences), maxlen, len(chars)))\n",
    "for i, sentence in enumerate(sentences):\n",
    "    for t, char in enumerate(sentence):\n",
    "        x[i, t, char_indices[char]] = 1\n",
    "\n",
    "for i, next_char in enumerate(next_chars):\n",
    "    for t, char in enumerate(next_char):\n",
    "        y[i, t, char_indices[char]] = 1\n"
   ]
  },
  {
   "cell_type": "code",
   "execution_count": 17,
   "id": "8ccb90d0",
   "metadata": {
    "execution": {
     "iopub.execute_input": "2022-01-18T15:05:11.337490Z",
     "iopub.status.busy": "2022-01-18T15:05:11.336523Z",
     "iopub.status.idle": "2022-01-18T15:05:11.338633Z",
     "shell.execute_reply": "2022-01-18T15:05:11.339196Z",
     "shell.execute_reply.started": "2022-01-18T14:31:26.680805Z"
    },
    "papermill": {
     "duration": 0.057326,
     "end_time": "2022-01-18T15:05:11.339364",
     "exception": false,
     "start_time": "2022-01-18T15:05:11.282038",
     "status": "completed"
    },
    "tags": []
   },
   "outputs": [],
   "source": [
    "# lstm = LSTM(4, input_shape=(maxlen, len(chars)), recurrent_activation = 'softmax', return_sequences = True)\n",
    "# af= lstm(np.random.randn(100,40,10))"
   ]
  },
  {
   "cell_type": "code",
   "execution_count": 18,
   "id": "a9d702e7",
   "metadata": {
    "execution": {
     "iopub.execute_input": "2022-01-18T15:05:11.443858Z",
     "iopub.status.busy": "2022-01-18T15:05:11.442957Z",
     "iopub.status.idle": "2022-01-18T15:05:11.445827Z",
     "shell.execute_reply": "2022-01-18T15:05:11.446431Z",
     "shell.execute_reply.started": "2022-01-18T14:31:26.687237Z"
    },
    "papermill": {
     "duration": 0.057062,
     "end_time": "2022-01-18T15:05:11.446840",
     "exception": false,
     "start_time": "2022-01-18T15:05:11.389778",
     "status": "completed"
    },
    "tags": []
   },
   "outputs": [],
   "source": [
    "# af.shape\n",
    "# # af[1][2]"
   ]
  },
  {
   "cell_type": "code",
   "execution_count": 19,
   "id": "59c841ca",
   "metadata": {
    "execution": {
     "iopub.execute_input": "2022-01-18T15:05:11.555422Z",
     "iopub.status.busy": "2022-01-18T15:05:11.554638Z",
     "iopub.status.idle": "2022-01-18T15:05:12.716170Z",
     "shell.execute_reply": "2022-01-18T15:05:12.715609Z",
     "shell.execute_reply.started": "2022-01-18T14:31:26.694885Z"
    },
    "papermill": {
     "duration": 1.218671,
     "end_time": "2022-01-18T15:05:12.716323",
     "exception": false,
     "start_time": "2022-01-18T15:05:11.497652",
     "status": "completed"
    },
    "tags": []
   },
   "outputs": [
    {
     "name": "stdout",
     "output_type": "stream",
     "text": [
      "Build model...\n"
     ]
    },
    {
     "name": "stderr",
     "output_type": "stream",
     "text": [
      "\n",
      "User settings:\n",
      "\n",
      "   KMP_AFFINITY=granularity=fine,verbose,compact,1,0\n",
      "   KMP_BLOCKTIME=0\n",
      "   KMP_SETTINGS=1\n",
      "   KMP_WARNINGS=0\n",
      "\n",
      "Effective settings:\n",
      "\n",
      "   KMP_ABORT_DELAY=0\n",
      "   KMP_ADAPTIVE_LOCK_PROPS='1,1024'\n",
      "   KMP_ALIGN_ALLOC=64\n",
      "   KMP_ALL_THREADPRIVATE=128\n",
      "   KMP_ATOMIC_MODE=2\n",
      "   KMP_BLOCKTIME=0\n",
      "   KMP_CPUINFO_FILE: value is not defined\n",
      "   KMP_DETERMINISTIC_REDUCTION=false\n",
      "   KMP_DEVICE_THREAD_LIMIT=2147483647\n",
      "   KMP_DISP_NUM_BUFFERS=7\n",
      "   KMP_DUPLICATE_LIB_OK=false\n",
      "   KMP_ENABLE_TASK_THROTTLING=true\n",
      "   KMP_FORCE_REDUCTION: value is not defined\n",
      "   KMP_FOREIGN_THREADS_THREADPRIVATE=true\n",
      "   KMP_FORKJOIN_BARRIER='2,2'\n",
      "   KMP_FORKJOIN_BARRIER_PATTERN='hyper,hyper'\n",
      "   KMP_GTID_MODE=3\n",
      "   KMP_HANDLE_SIGNALS=false\n",
      "   KMP_HOT_TEAMS_MAX_LEVEL=1\n",
      "   KMP_HOT_TEAMS_MODE=0\n",
      "   KMP_INIT_AT_FORK=true\n",
      "   KMP_LIBRARY=throughput\n",
      "   KMP_LOCK_KIND=queuing\n",
      "   KMP_MALLOC_POOL_INCR=1M\n",
      "   KMP_NUM_LOCKS_IN_BLOCK=1\n",
      "   KMP_PLAIN_BARRIER='2,2'\n",
      "   KMP_PLAIN_BARRIER_PATTERN='hyper,hyper'\n",
      "   KMP_REDUCTION_BARRIER='1,1'\n",
      "   KMP_REDUCTION_BARRIER_PATTERN='hyper,hyper'\n",
      "   KMP_SCHEDULE='static,balanced;guided,iterative'\n",
      "   KMP_SETTINGS=true\n",
      "   KMP_SPIN_BACKOFF_PARAMS='4096,100'\n",
      "   KMP_STACKOFFSET=64\n",
      "   KMP_STACKPAD=0\n",
      "   KMP_STACKSIZE=8M\n",
      "   KMP_STORAGE_MAP=false\n",
      "   KMP_TASKING=2\n",
      "   KMP_TASKLOOP_MIN_TASKS=0\n",
      "   KMP_TASK_STEALING_CONSTRAINT=1\n",
      "   KMP_TEAMS_THREAD_LIMIT=4\n",
      "   KMP_TOPOLOGY_METHOD=all\n",
      "   KMP_USE_YIELD=1\n",
      "   KMP_VERSION=false\n",
      "   KMP_WARNINGS=false\n",
      "   OMP_AFFINITY_FORMAT='OMP: pid %P tid %i thread %n bound to OS proc set {%A}'\n",
      "   OMP_ALLOCATOR=omp_default_mem_alloc\n",
      "   OMP_CANCELLATION=false\n",
      "   OMP_DEFAULT_DEVICE=0\n",
      "   OMP_DISPLAY_AFFINITY=false\n",
      "   OMP_DISPLAY_ENV=false\n",
      "   OMP_DYNAMIC=false\n",
      "   OMP_MAX_ACTIVE_LEVELS=1\n",
      "   OMP_MAX_TASK_PRIORITY=0\n",
      "   OMP_NESTED: deprecated; max-active-levels-var=1\n",
      "   OMP_NUM_THREADS: value is not defined\n",
      "   OMP_PLACES: value is not defined\n",
      "   OMP_PROC_BIND='intel'\n",
      "   OMP_SCHEDULE='static'\n",
      "   OMP_STACKSIZE=8M\n",
      "   OMP_TARGET_OFFLOAD=DEFAULT\n",
      "   OMP_THREAD_LIMIT=2147483647\n",
      "   OMP_WAIT_POLICY=PASSIVE\n",
      "   KMP_AFFINITY='verbose,warnings,respect,granularity=fine,compact,1,0'\n",
      "\n",
      "2022-01-18 15:05:11.587857: I tensorflow/core/common_runtime/process_util.cc:146] Creating new thread pool with default inter op setting: 2. Tune using inter_op_parallelism_threads for best performance.\n"
     ]
    }
   ],
   "source": [
    "# # build the model: a single LSTM\n",
    "# print('Build model...')\n",
    "# model = Sequential()\n",
    "# model.add(LSTM(128, input_shape=(maxlen, len(chars))))\n",
    "# model.add(Dense(len(chars), activation='softmax'))\n",
    "\n",
    "# optimizer = rmsprop.RMSProp(learning_rate=0.01)\n",
    "# model.compile(loss='categorical_crossentropy', optimizer=optimizer, metrics = ['accuracy'])\n",
    "\n",
    "\n",
    "# build the model: a single LSTM\n",
    "print('Build model...')\n",
    "model = Sequential()\n",
    "# model.add(tf.keras.layers.GRU(512,  input_shape=(maxlen, len(chars)), return_sequences = True))\n",
    "model.add(LSTM(512, input_shape = (maxlen, len(chars)), return_sequences = True))\n",
    "model.add(LSTM(256, return_sequences = True))\n",
    "model.add(LSTM(128, return_sequences = True))\n",
    "# model.add(LSTM(128, return_sequences = True))\n",
    "# model.add(tf.keras.layers.Dropout(0.2))\n",
    "model.add(Dense(len(chars), activation = 'softmax'))\n",
    "optimizer = rmsprop.RMSProp(learning_rate=0.001)\n",
    "# optimizer = tf.keras.optimizers.Adam(learning_rate=0.0001)\n",
    "model.compile(loss='categorical_crossentropy', optimizer=optimizer, metrics = ['accuracy'])"
   ]
  },
  {
   "cell_type": "code",
   "execution_count": 20,
   "id": "2828d459",
   "metadata": {
    "execution": {
     "iopub.execute_input": "2022-01-18T15:05:12.823324Z",
     "iopub.status.busy": "2022-01-18T15:05:12.822618Z",
     "iopub.status.idle": "2022-01-18T15:05:12.828915Z",
     "shell.execute_reply": "2022-01-18T15:05:12.829351Z",
     "shell.execute_reply.started": "2022-01-18T14:31:29.855026Z"
    },
    "papermill": {
     "duration": 0.061426,
     "end_time": "2022-01-18T15:05:12.829528",
     "exception": false,
     "start_time": "2022-01-18T15:05:12.768102",
     "status": "completed"
    },
    "tags": []
   },
   "outputs": [
    {
     "name": "stdout",
     "output_type": "stream",
     "text": [
      "Model: \"sequential\"\n",
      "_________________________________________________________________\n",
      "Layer (type)                 Output Shape              Param #   \n",
      "=================================================================\n",
      "lstm (LSTM)                  (None, 21, 512)           1101824   \n",
      "_________________________________________________________________\n",
      "lstm_1 (LSTM)                (None, 21, 256)           787456    \n",
      "_________________________________________________________________\n",
      "lstm_2 (LSTM)                (None, 21, 128)           197120    \n",
      "_________________________________________________________________\n",
      "dense (Dense)                (None, 21, 25)            3225      \n",
      "=================================================================\n",
      "Total params: 2,089,625\n",
      "Trainable params: 2,089,625\n",
      "Non-trainable params: 0\n",
      "_________________________________________________________________\n"
     ]
    }
   ],
   "source": [
    "model.summary()"
   ]
  },
  {
   "cell_type": "code",
   "execution_count": 21,
   "id": "ca98d852",
   "metadata": {
    "execution": {
     "iopub.execute_input": "2022-01-18T15:05:12.936317Z",
     "iopub.status.busy": "2022-01-18T15:05:12.935533Z",
     "iopub.status.idle": "2022-01-18T15:05:14.116204Z",
     "shell.execute_reply": "2022-01-18T15:05:14.115598Z",
     "shell.execute_reply.started": "2022-01-18T14:31:29.866090Z"
    },
    "papermill": {
     "duration": 1.235089,
     "end_time": "2022-01-18T15:05:14.116364",
     "exception": false,
     "start_time": "2022-01-18T15:05:12.881275",
     "status": "completed"
    },
    "tags": []
   },
   "outputs": [
    {
     "data": {
      "image/png": "[encoded data removed]",
      "text/plain": [
       "<IPython.core.display.Image object>"
      ]
     },
     "execution_count": 21,
     "metadata": {},
     "output_type": "execute_result"
    }
   ],
   "source": [
    "tf.keras.utils.plot_model(model, show_shapes = True)"
   ]
  },
  {
   "cell_type": "code",
   "execution_count": 22,
   "id": "ea7cf54f",
   "metadata": {
    "execution": {
     "iopub.execute_input": "2022-01-18T15:05:14.227202Z",
     "iopub.status.busy": "2022-01-18T15:05:14.226615Z",
     "iopub.status.idle": "2022-01-18T15:05:14.946204Z",
     "shell.execute_reply": "2022-01-18T15:05:14.945634Z",
     "shell.execute_reply.started": "2022-01-18T14:31:30.881779Z"
    },
    "papermill": {
     "duration": 0.776401,
     "end_time": "2022-01-18T15:05:14.946371",
     "exception": false,
     "start_time": "2022-01-18T15:05:14.169970",
     "status": "completed"
    },
    "tags": []
   },
   "outputs": [],
   "source": [
    "from sklearn.model_selection import train_test_split\n",
    "X_train, X_val, Y_train, Y_val = train_test_split(x, y , train_size = 0.8, random_state = 11)"
   ]
  },
  {
   "cell_type": "code",
   "execution_count": 23,
   "id": "300abd86",
   "metadata": {
    "execution": {
     "iopub.execute_input": "2022-01-18T15:05:15.056477Z",
     "iopub.status.busy": "2022-01-18T15:05:15.055509Z",
     "iopub.status.idle": "2022-01-18T15:45:05.549859Z",
     "shell.execute_reply": "2022-01-18T15:45:05.550415Z",
     "shell.execute_reply.started": "2022-01-18T14:31:31.670190Z"
    },
    "papermill": {
     "duration": 2390.550754,
     "end_time": "2022-01-18T15:45:05.550623",
     "exception": false,
     "start_time": "2022-01-18T15:05:14.999869",
     "status": "completed"
    },
    "scrolled": true,
    "tags": []
   },
   "outputs": [
    {
     "name": "stderr",
     "output_type": "stream",
     "text": [
      "2022-01-18 15:05:15.136856: I tensorflow/compiler/mlir/mlir_graph_optimization_pass.cc:185] None of the MLIR Optimization Passes are enabled (registered 2)\n"
     ]
    },
    {
     "name": "stdout",
     "output_type": "stream",
     "text": [
      "Epoch 1/100\n",
      "138/138 [==============================] - 30s 171ms/step - loss: 2.2115 - accuracy: 0.2736\n",
      "Epoch 2/100\n",
      "138/138 [==============================] - 24s 171ms/step - loss: 2.1503 - accuracy: 0.3369\n",
      "Epoch 3/100\n",
      "138/138 [==============================] - 23s 167ms/step - loss: 2.1322 - accuracy: 0.3475\n",
      "Epoch 4/100\n",
      "138/138 [==============================] - 24s 171ms/step - loss: 2.1243 - accuracy: 0.3527\n",
      "Epoch 5/100\n",
      "138/138 [==============================] - 24s 171ms/step - loss: 2.1174 - accuracy: 0.3551\n",
      "Epoch 6/100\n",
      "138/138 [==============================] - 23s 166ms/step - loss: 2.1145 - accuracy: 0.3582\n",
      "Epoch 7/100\n",
      "138/138 [==============================] - 24s 172ms/step - loss: 2.1087 - accuracy: 0.3592\n",
      "Epoch 8/100\n",
      "138/138 [==============================] - 24s 172ms/step - loss: 2.1042 - accuracy: 0.3590\n",
      "Epoch 9/100\n",
      "138/138 [==============================] - 24s 172ms/step - loss: 2.0987 - accuracy: 0.3195\n",
      "Epoch 10/100\n",
      "138/138 [==============================] - 23s 165ms/step - loss: 2.0963 - accuracy: 0.3634\n",
      "Epoch 11/100\n",
      "138/138 [==============================] - 24s 171ms/step - loss: 2.0923 - accuracy: 0.3673\n",
      "Epoch 12/100\n",
      "138/138 [==============================] - 24s 171ms/step - loss: 2.0874 - accuracy: 0.3642\n",
      "Epoch 13/100\n",
      "138/138 [==============================] - 24s 172ms/step - loss: 2.0822 - accuracy: 0.3709\n",
      "Epoch 14/100\n",
      "138/138 [==============================] - 23s 166ms/step - loss: 2.0749 - accuracy: 0.3640\n",
      "Epoch 15/100\n",
      "138/138 [==============================] - 24s 171ms/step - loss: 2.0693 - accuracy: 0.3727\n",
      "Epoch 16/100\n",
      "138/138 [==============================] - 24s 172ms/step - loss: 2.0639 - accuracy: 0.3765\n",
      "Epoch 17/100\n",
      "138/138 [==============================] - 23s 170ms/step - loss: 2.0559 - accuracy: 0.3795\n",
      "Epoch 18/100\n",
      "138/138 [==============================] - 23s 167ms/step - loss: 2.0470 - accuracy: 0.3855\n",
      "Epoch 19/100\n",
      "138/138 [==============================] - 24s 172ms/step - loss: 2.0397 - accuracy: 0.3879\n",
      "Epoch 20/100\n",
      "138/138 [==============================] - 24s 172ms/step - loss: 2.0305 - accuracy: 0.3916\n",
      "Epoch 21/100\n",
      "138/138 [==============================] - 24s 171ms/step - loss: 2.0207 - accuracy: 0.3943\n",
      "Epoch 22/100\n",
      "138/138 [==============================] - 23s 168ms/step - loss: 2.0078 - accuracy: 0.3992\n",
      "Epoch 23/100\n",
      "138/138 [==============================] - 24s 174ms/step - loss: 1.9992 - accuracy: 0.4016\n",
      "Epoch 24/100\n",
      "138/138 [==============================] - 24s 171ms/step - loss: 1.9861 - accuracy: 0.4061\n",
      "Epoch 25/100\n",
      "138/138 [==============================] - 26s 189ms/step - loss: 1.9746 - accuracy: 0.4110\n",
      "Epoch 26/100\n",
      "138/138 [==============================] - 23s 168ms/step - loss: 1.9601 - accuracy: 0.4158\n",
      "Epoch 27/100\n",
      "138/138 [==============================] - 24s 173ms/step - loss: 1.9444 - accuracy: 0.4211\n",
      "Epoch 28/100\n",
      "138/138 [==============================] - 24s 170ms/step - loss: 1.9289 - accuracy: 0.4287\n",
      "Epoch 29/100\n",
      "138/138 [==============================] - 23s 167ms/step - loss: 1.9104 - accuracy: 0.4335\n",
      "Epoch 30/100\n",
      "138/138 [==============================] - 24s 174ms/step - loss: 1.8921 - accuracy: 0.4418\n",
      "Epoch 31/100\n",
      "138/138 [==============================] - 24s 173ms/step - loss: 1.8716 - accuracy: 0.4476\n",
      "Epoch 32/100\n",
      "138/138 [==============================] - 24s 172ms/step - loss: 1.8524 - accuracy: 0.4554\n",
      "Epoch 33/100\n",
      "138/138 [==============================] - 23s 168ms/step - loss: 1.8303 - accuracy: 0.4637\n",
      "Epoch 34/100\n",
      "138/138 [==============================] - 24s 175ms/step - loss: 1.8046 - accuracy: 0.4713\n",
      "Epoch 35/100\n",
      "138/138 [==============================] - 24s 172ms/step - loss: 1.7810 - accuracy: 0.4800\n",
      "Epoch 36/100\n",
      "138/138 [==============================] - 24s 174ms/step - loss: 1.7548 - accuracy: 0.4897\n",
      "Epoch 37/100\n",
      "138/138 [==============================] - 23s 169ms/step - loss: 1.7270 - accuracy: 0.4993\n",
      "Epoch 38/100\n",
      "138/138 [==============================] - 24s 170ms/step - loss: 1.6991 - accuracy: 0.5093\n",
      "Epoch 39/100\n",
      "138/138 [==============================] - 24s 174ms/step - loss: 1.6701 - accuracy: 0.5193\n",
      "Epoch 40/100\n",
      "138/138 [==============================] - 24s 173ms/step - loss: 1.6400 - accuracy: 0.5303\n",
      "Epoch 41/100\n",
      "138/138 [==============================] - 23s 166ms/step - loss: 1.6108 - accuracy: 0.5401\n",
      "Epoch 42/100\n",
      "138/138 [==============================] - 24s 174ms/step - loss: 1.5784 - accuracy: 0.5523\n",
      "Epoch 43/100\n",
      "138/138 [==============================] - 24s 174ms/step - loss: 1.5460 - accuracy: 0.5633\n",
      "Epoch 44/100\n",
      "138/138 [==============================] - 24s 171ms/step - loss: 1.5144 - accuracy: 0.5734\n",
      "Epoch 45/100\n",
      "138/138 [==============================] - 23s 168ms/step - loss: 1.4801 - accuracy: 0.5873\n",
      "Epoch 46/100\n",
      "138/138 [==============================] - 24s 175ms/step - loss: 1.4534 - accuracy: 0.5957\n",
      "Epoch 47/100\n",
      "138/138 [==============================] - 24s 171ms/step - loss: 1.4225 - accuracy: 0.6067\n",
      "Epoch 48/100\n",
      "138/138 [==============================] - 24s 175ms/step - loss: 1.3923 - accuracy: 0.6165\n",
      "Epoch 49/100\n",
      "138/138 [==============================] - 23s 169ms/step - loss: 1.3618 - accuracy: 0.6264\n",
      "Epoch 50/100\n",
      "138/138 [==============================] - 24s 171ms/step - loss: 1.3328 - accuracy: 0.6368\n",
      "Epoch 51/100\n",
      "138/138 [==============================] - 26s 188ms/step - loss: 1.3020 - accuracy: 0.6455\n",
      "Epoch 52/100\n",
      "138/138 [==============================] - 24s 175ms/step - loss: 1.2766 - accuracy: 0.6556\n",
      "Epoch 53/100\n",
      "138/138 [==============================] - 23s 165ms/step - loss: 1.2483 - accuracy: 0.6644\n",
      "Epoch 54/100\n",
      "138/138 [==============================] - 24s 177ms/step - loss: 1.2220 - accuracy: 0.6730\n",
      "Epoch 55/100\n",
      "138/138 [==============================] - 24s 176ms/step - loss: 1.1983 - accuracy: 0.6819\n",
      "Epoch 56/100\n",
      "138/138 [==============================] - 23s 170ms/step - loss: 1.1730 - accuracy: 0.6884\n",
      "Epoch 57/100\n",
      "138/138 [==============================] - 23s 170ms/step - loss: 1.1485 - accuracy: 0.6955\n",
      "Epoch 58/100\n",
      "138/138 [==============================] - 24s 173ms/step - loss: 1.1212 - accuracy: 0.7045\n",
      "Epoch 59/100\n",
      "138/138 [==============================] - 24s 174ms/step - loss: 1.1019 - accuracy: 0.7097\n",
      "Epoch 60/100\n",
      "138/138 [==============================] - 24s 172ms/step - loss: 1.0817 - accuracy: 0.7164\n",
      "Epoch 61/100\n",
      "138/138 [==============================] - 24s 171ms/step - loss: 1.0594 - accuracy: 0.7232\n",
      "Epoch 62/100\n",
      "138/138 [==============================] - 24s 171ms/step - loss: 1.0414 - accuracy: 0.7282\n",
      "Epoch 63/100\n",
      "138/138 [==============================] - 24s 172ms/step - loss: 1.0231 - accuracy: 0.7324\n",
      "Epoch 64/100\n",
      "138/138 [==============================] - 24s 177ms/step - loss: 1.0054 - accuracy: 0.7377\n",
      "Epoch 65/100\n",
      "138/138 [==============================] - 23s 167ms/step - loss: 0.9883 - accuracy: 0.7431\n",
      "Epoch 66/100\n",
      "138/138 [==============================] - 24s 173ms/step - loss: 0.9735 - accuracy: 0.7460\n",
      "Epoch 67/100\n",
      "138/138 [==============================] - 25s 179ms/step - loss: 0.9578 - accuracy: 0.7514\n",
      "Epoch 68/100\n",
      "138/138 [==============================] - 24s 172ms/step - loss: 0.9413 - accuracy: 0.7560\n",
      "Epoch 69/100\n",
      "138/138 [==============================] - 23s 166ms/step - loss: 0.9256 - accuracy: 0.7596\n",
      "Epoch 70/100\n",
      "138/138 [==============================] - 25s 179ms/step - loss: 0.9155 - accuracy: 0.7617\n",
      "Epoch 71/100\n",
      "138/138 [==============================] - 24s 172ms/step - loss: 0.8981 - accuracy: 0.7666\n",
      "Epoch 72/100\n",
      "138/138 [==============================] - 24s 173ms/step - loss: 0.8909 - accuracy: 0.7683\n",
      "Epoch 73/100\n",
      "138/138 [==============================] - 31s 224ms/step - loss: 0.8697 - accuracy: 0.7747\n",
      "Epoch 74/100\n",
      "138/138 [==============================] - 26s 188ms/step - loss: 0.8637 - accuracy: 0.7758\n",
      "Epoch 75/100\n",
      "138/138 [==============================] - 24s 176ms/step - loss: 0.8523 - accuracy: 0.7786\n",
      "Epoch 76/100\n",
      "138/138 [==============================] - 24s 172ms/step - loss: 0.8439 - accuracy: 0.7801\n",
      "Epoch 77/100\n",
      "138/138 [==============================] - 24s 172ms/step - loss: 0.8303 - accuracy: 0.7830\n",
      "Epoch 78/100\n",
      "138/138 [==============================] - 24s 173ms/step - loss: 0.8263 - accuracy: 0.7719\n",
      "Epoch 79/100\n",
      "138/138 [==============================] - 24s 172ms/step - loss: 0.8140 - accuracy: 0.7631\n",
      "Epoch 80/100\n",
      "138/138 [==============================] - 24s 173ms/step - loss: 0.7995 - accuracy: 0.7862\n",
      "Epoch 81/100\n",
      "138/138 [==============================] - 25s 182ms/step - loss: 0.7827 - accuracy: 0.7942\n",
      "Epoch 82/100\n",
      "138/138 [==============================] - 23s 166ms/step - loss: 0.7755 - accuracy: 0.7953\n",
      "Epoch 83/100\n",
      "138/138 [==============================] - 24s 171ms/step - loss: 0.7629 - accuracy: 0.7987\n",
      "Epoch 84/100\n",
      "138/138 [==============================] - 24s 177ms/step - loss: 0.7530 - accuracy: 0.8000\n",
      "Epoch 85/100\n",
      "138/138 [==============================] - 24s 172ms/step - loss: 0.7445 - accuracy: 0.8020\n",
      "Epoch 86/100\n",
      "138/138 [==============================] - 23s 167ms/step - loss: 0.7317 - accuracy: 0.8049\n",
      "Epoch 87/100\n",
      "138/138 [==============================] - 25s 179ms/step - loss: 0.7275 - accuracy: 0.8054\n",
      "Epoch 88/100\n",
      "138/138 [==============================] - 24s 171ms/step - loss: 0.7157 - accuracy: 0.8089\n",
      "Epoch 89/100\n",
      "138/138 [==============================] - 24s 171ms/step - loss: 0.7036 - accuracy: 0.8116\n",
      "Epoch 90/100\n",
      "138/138 [==============================] - 24s 173ms/step - loss: 0.7009 - accuracy: 0.8115\n",
      "Epoch 91/100\n",
      "138/138 [==============================] - 24s 171ms/step - loss: 0.6863 - accuracy: 0.8155\n",
      "Epoch 92/100\n",
      "138/138 [==============================] - 24s 171ms/step - loss: 0.6855 - accuracy: 0.8151\n",
      "Epoch 93/100\n",
      "138/138 [==============================] - 25s 181ms/step - loss: 0.6732 - accuracy: 0.8174\n",
      "Epoch 94/100\n",
      "138/138 [==============================] - 23s 166ms/step - loss: 0.6673 - accuracy: 0.8191\n",
      "Epoch 95/100\n",
      "138/138 [==============================] - 24s 171ms/step - loss: 0.6622 - accuracy: 0.8199\n",
      "Epoch 96/100\n",
      "138/138 [==============================] - 25s 178ms/step - loss: 0.6546 - accuracy: 0.8208\n",
      "Epoch 97/100\n",
      "138/138 [==============================] - 23s 166ms/step - loss: 0.6429 - accuracy: 0.8243\n",
      "Epoch 98/100\n",
      "138/138 [==============================] - 24s 171ms/step - loss: 0.6343 - accuracy: 0.8256\n",
      "Epoch 99/100\n",
      "138/138 [==============================] - 25s 184ms/step - loss: 0.6385 - accuracy: 0.8243\n",
      "Epoch 100/100\n",
      "138/138 [==============================] - 24s 170ms/step - loss: 0.6220 - accuracy: 0.8283\n"
     ]
    },
    {
     "data": {
      "text/plain": [
       "<keras.callbacks.History at 0x7f33901b6a10>"
      ]
     },
     "execution_count": 23,
     "metadata": {},
     "output_type": "execute_result"
    }
   ],
   "source": [
    "model.fit(x, y, batch_size = 32, epochs = 100)"
   ]
  },
  {
   "cell_type": "code",
   "execution_count": 24,
   "id": "a97b1353",
   "metadata": {
    "execution": {
     "iopub.execute_input": "2022-01-18T15:45:14.250595Z",
     "iopub.status.busy": "2022-01-18T15:45:14.249970Z",
     "iopub.status.idle": "2022-01-18T15:45:14.255047Z",
     "shell.execute_reply": "2022-01-18T15:45:14.255581Z",
     "shell.execute_reply.started": "2022-01-18T14:34:56.911850Z"
    },
    "papermill": {
     "duration": 4.398069,
     "end_time": "2022-01-18T15:45:14.255747",
     "exception": false,
     "start_time": "2022-01-18T15:45:09.857678",
     "status": "completed"
    },
    "tags": []
   },
   "outputs": [],
   "source": [
    "def vectorizer(sentence):\n",
    "    \n",
    "    x = np.zeros((1, maxlen, len(chars)))\n",
    "    for t, char in enumerate(sentence):\n",
    "        x[0, t, char_indices[char]] = 1\n",
    "    return x\n"
   ]
  },
  {
   "cell_type": "code",
   "execution_count": 25,
   "id": "7287f035",
   "metadata": {
    "execution": {
     "iopub.execute_input": "2022-01-18T15:45:22.916392Z",
     "iopub.status.busy": "2022-01-18T15:45:22.915726Z",
     "iopub.status.idle": "2022-01-18T15:45:22.922601Z",
     "shell.execute_reply": "2022-01-18T15:45:22.923086Z",
     "shell.execute_reply.started": "2022-01-18T14:34:56.918945Z"
    },
    "papermill": {
     "duration": 4.380802,
     "end_time": "2022-01-18T15:45:22.923247",
     "exception": false,
     "start_time": "2022-01-18T15:45:18.542445",
     "status": "completed"
    },
    "tags": []
   },
   "outputs": [],
   "source": [
    "def sample(preds, temperature=1.0):\n",
    "    # helper function to sample an index from a probability array\n",
    "    preds = np.asarray(preds).astype('float64')\n",
    "    ls = []\n",
    "    for i in range(preds.shape[0]):\n",
    "        a = np.log(preds[i]) / temperature\n",
    "        exp_preds = np.exp(a)\n",
    "        a = exp_preds / np.sum(exp_preds)\n",
    "        probas = np.random.multinomial(1, a, size = 1)\n",
    "        probas = np.asarray(probas[0])\n",
    "        residue = indices_char[np.argmax(probas, axis = -1).astype(int)]\n",
    "        \n",
    "        if residue == '\\n':\n",
    "            break\n",
    "        else:\n",
    "            ls.append(residue)\n",
    "    \n",
    "\n",
    "    return ls\n"
   ]
  },
  {
   "cell_type": "code",
   "execution_count": 26,
   "id": "cb42381f",
   "metadata": {
    "execution": {
     "iopub.execute_input": "2022-01-18T15:45:31.682248Z",
     "iopub.status.busy": "2022-01-18T15:45:31.681664Z",
     "iopub.status.idle": "2022-01-18T15:50:27.120342Z",
     "shell.execute_reply": "2022-01-18T15:50:27.119215Z",
     "shell.execute_reply.started": "2022-01-18T14:34:56.934139Z"
    },
    "papermill": {
     "duration": 299.893027,
     "end_time": "2022-01-18T15:50:27.120528",
     "exception": false,
     "start_time": "2022-01-18T15:45:27.227501",
     "status": "completed"
    },
    "tags": []
   },
   "outputs": [],
   "source": [
    "novel_seq = []\n",
    "\n",
    "for i in range(x.shape[0]):\n",
    "    pred = model.predict(x[i].reshape(1, maxlen, len(chars)))\n",
    "    pred = sample(pred.reshape(maxlen, len(chars)))\n",
    "    novel_seq.append(pred)"
   ]
  },
  {
   "cell_type": "code",
   "execution_count": 27,
   "id": "f5fdff81",
   "metadata": {
    "execution": {
     "iopub.execute_input": "2022-01-18T15:50:35.765312Z",
     "iopub.status.busy": "2022-01-18T15:50:35.764541Z",
     "iopub.status.idle": "2022-01-18T15:50:35.767575Z",
     "shell.execute_reply": "2022-01-18T15:50:35.768059Z",
     "shell.execute_reply.started": "2022-01-18T14:37:42.530946Z"
    },
    "papermill": {
     "duration": 4.346295,
     "end_time": "2022-01-18T15:50:35.768219",
     "exception": false,
     "start_time": "2022-01-18T15:50:31.421924",
     "status": "completed"
    },
    "tags": []
   },
   "outputs": [
    {
     "data": {
      "text/plain": [
       "4409"
      ]
     },
     "execution_count": 27,
     "metadata": {},
     "output_type": "execute_result"
    }
   ],
   "source": [
    "len(novel_seq)"
   ]
  },
  {
   "cell_type": "markdown",
   "id": "57adf96e",
   "metadata": {
    "papermill": {
     "duration": 4.382671,
     "end_time": "2022-01-18T15:50:44.427032",
     "exception": false,
     "start_time": "2022-01-18T15:50:40.044361",
     "status": "completed"
    },
    "tags": []
   },
   "source": [
    "<hr>\n",
    "\n",
    "<hr>"
   ]
  },
  {
   "cell_type": "markdown",
   "id": "5de84fac",
   "metadata": {
    "papermill": {
     "duration": 4.350541,
     "end_time": "2022-01-18T15:50:53.092561",
     "exception": false,
     "start_time": "2022-01-18T15:50:48.742020",
     "status": "completed"
    },
    "tags": []
   },
   "source": [
    "# classification model"
   ]
  },
  {
   "cell_type": "markdown",
   "id": "5904de7f",
   "metadata": {
    "papermill": {
     "duration": 4.352584,
     "end_time": "2022-01-18T15:51:01.720196",
     "exception": false,
     "start_time": "2022-01-18T15:50:57.367612",
     "status": "completed"
    },
    "tags": []
   },
   "source": [
    "## Data "
   ]
  },
  {
   "cell_type": "code",
   "execution_count": 28,
   "id": "4d5da888",
   "metadata": {
    "execution": {
     "iopub.execute_input": "2022-01-18T15:51:10.368269Z",
     "iopub.status.busy": "2022-01-18T15:51:10.367480Z",
     "iopub.status.idle": "2022-01-18T15:51:10.406770Z",
     "shell.execute_reply": "2022-01-18T15:51:10.407252Z",
     "shell.execute_reply.started": "2022-01-18T14:38:36.668944Z"
    },
    "papermill": {
     "duration": 4.386454,
     "end_time": "2022-01-18T15:51:10.407465",
     "exception": false,
     "start_time": "2022-01-18T15:51:06.021011",
     "status": "completed"
    },
    "tags": []
   },
   "outputs": [],
   "source": [
    "# Negative Sequences\n",
    "\n",
    "df_class_amp = pd.read_csv('../input/anti-microbial-peptides-data/Datasets/Classification model dataset/classification_sequences_amp.csv', names = ['PepSeq', 'MIC'])\n",
    "df_class_uniprot = pd.read_csv('../input/anti-microbial-peptides-data/Datasets/Classification model dataset/classification_sequences_uniprot.csv', names = ['PepSeq', 'MIC'])\n",
    "\n",
    "df_class_pos = pd.read_csv('../input/anti-microbial-peptides-data/Datasets/Generative model dataset/amp_dataset.csv', names = ['PepSeq', 'MIC'])"
   ]
  },
  {
   "cell_type": "code",
   "execution_count": 29,
   "id": "a245f15b",
   "metadata": {
    "execution": {
     "iopub.execute_input": "2022-01-18T15:51:19.118022Z",
     "iopub.status.busy": "2022-01-18T15:51:19.117132Z",
     "iopub.status.idle": "2022-01-18T15:51:19.120802Z",
     "shell.execute_reply": "2022-01-18T15:51:19.121260Z",
     "shell.execute_reply.started": "2022-01-08T19:11:56.134552Z"
    },
    "papermill": {
     "duration": 4.405012,
     "end_time": "2022-01-18T15:51:19.121470",
     "exception": false,
     "start_time": "2022-01-18T15:51:14.716458",
     "status": "completed"
    },
    "tags": []
   },
   "outputs": [
    {
     "name": "stdout",
     "output_type": "stream",
     "text": [
      "AMP Sequences\n"
     ]
    },
    {
     "data": {
      "text/plain": [
       "4409"
      ]
     },
     "execution_count": 29,
     "metadata": {},
     "output_type": "execute_result"
    }
   ],
   "source": [
    "# Positive Sequences \n",
    "print(\"AMP Sequences\")\n",
    "len(sentences)"
   ]
  },
  {
   "cell_type": "code",
   "execution_count": 30,
   "id": "9fc73c18",
   "metadata": {
    "execution": {
     "iopub.execute_input": "2022-01-18T15:51:27.815796Z",
     "iopub.status.busy": "2022-01-18T15:51:27.815133Z",
     "iopub.status.idle": "2022-01-18T15:51:27.872423Z",
     "shell.execute_reply": "2022-01-18T15:51:27.872991Z",
     "shell.execute_reply.started": "2022-01-08T19:11:56.143764Z"
    },
    "papermill": {
     "duration": 4.445635,
     "end_time": "2022-01-18T15:51:27.873154",
     "exception": false,
     "start_time": "2022-01-18T15:51:23.427519",
     "status": "completed"
    },
    "tags": []
   },
   "outputs": [
    {
     "name": "stdout",
     "output_type": "stream",
     "text": [
      "Vectorization...\n"
     ]
    }
   ],
   "source": [
    "print('Vectorization...')\n",
    "x_pos = np.zeros((len(sentences), maxlen, len(chars)))\n",
    "\n",
    "y_pos = np.zeros((len(sentences), 1))\n",
    "\n",
    "for i, sentence in enumerate(sentences):\n",
    "    for t, char in enumerate(sentence):\n",
    "        x_pos[i, t, char_indices[char]] = 1\n",
    "\n",
    "for i, next_char in enumerate(sentences):\n",
    "    y_pos[i] = 1\n"
   ]
  },
  {
   "cell_type": "code",
   "execution_count": 31,
   "id": "c4579777",
   "metadata": {
    "execution": {
     "iopub.execute_input": "2022-01-18T15:51:36.527594Z",
     "iopub.status.busy": "2022-01-18T15:51:36.526961Z",
     "iopub.status.idle": "2022-01-18T15:51:36.531390Z",
     "shell.execute_reply": "2022-01-18T15:51:36.531882Z",
     "shell.execute_reply.started": "2022-01-08T19:11:56.198346Z"
    },
    "papermill": {
     "duration": 4.373193,
     "end_time": "2022-01-18T15:51:36.532047",
     "exception": false,
     "start_time": "2022-01-18T15:51:32.158854",
     "status": "completed"
    },
    "tags": []
   },
   "outputs": [],
   "source": [
    "neg_sentences = df_class_amp.PepSeq\n",
    "neg_sentences = neg_sentences.append(df_class_uniprot.PepSeq)"
   ]
  },
  {
   "cell_type": "code",
   "execution_count": 32,
   "id": "6d75a9d3",
   "metadata": {
    "execution": {
     "iopub.execute_input": "2022-01-18T15:51:45.208658Z",
     "iopub.status.busy": "2022-01-18T15:51:45.208018Z",
     "iopub.status.idle": "2022-01-18T15:51:45.213199Z",
     "shell.execute_reply": "2022-01-18T15:51:45.213780Z",
     "shell.execute_reply.started": "2022-01-08T19:11:56.206579Z"
    },
    "papermill": {
     "duration": 4.371969,
     "end_time": "2022-01-18T15:51:45.213951",
     "exception": false,
     "start_time": "2022-01-18T15:51:40.841982",
     "status": "completed"
    },
    "tags": []
   },
   "outputs": [
    {
     "name": "stdout",
     "output_type": "stream",
     "text": [
      "Non AMP Sequences\n"
     ]
    },
    {
     "data": {
      "text/plain": [
       "3499"
      ]
     },
     "execution_count": 32,
     "metadata": {},
     "output_type": "execute_result"
    }
   ],
   "source": [
    "print(\"Non AMP Sequences\")\n",
    "len(neg_sentences)"
   ]
  },
  {
   "cell_type": "code",
   "execution_count": 33,
   "id": "f88f2ba3",
   "metadata": {
    "execution": {
     "iopub.execute_input": "2022-01-18T15:51:54.001578Z",
     "iopub.status.busy": "2022-01-18T15:51:53.996020Z",
     "iopub.status.idle": "2022-01-18T15:51:54.039964Z",
     "shell.execute_reply": "2022-01-18T15:51:54.039351Z",
     "shell.execute_reply.started": "2022-01-08T19:11:56.217345Z"
    },
    "papermill": {
     "duration": 4.500685,
     "end_time": "2022-01-18T15:51:54.040102",
     "exception": false,
     "start_time": "2022-01-18T15:51:49.539417",
     "status": "completed"
    },
    "tags": []
   },
   "outputs": [
    {
     "name": "stdout",
     "output_type": "stream",
     "text": [
      "Vectorization...\n"
     ]
    }
   ],
   "source": [
    "print('Vectorization...')\n",
    "x_neg = np.zeros((len(neg_sentences), maxlen, len(chars)))\n",
    "\n",
    "y_neg = np.zeros((len(neg_sentences), 1))\n",
    "\n",
    "for i, sentence in enumerate(neg_sentences):\n",
    "    for t, char in enumerate(sentence):\n",
    "        x_neg[i, t, char_indices[char]] = 1\n",
    "\n",
    "for i, next_char in enumerate(neg_sentences):\n",
    "    y_neg[i] = 0\n"
   ]
  },
  {
   "cell_type": "code",
   "execution_count": 34,
   "id": "4797a711",
   "metadata": {
    "execution": {
     "iopub.execute_input": "2022-01-18T15:52:02.752599Z",
     "iopub.status.busy": "2022-01-18T15:52:02.747569Z",
     "iopub.status.idle": "2022-01-18T15:52:02.794728Z",
     "shell.execute_reply": "2022-01-18T15:52:02.795304Z",
     "shell.execute_reply.started": "2022-01-08T19:11:56.261252Z"
    },
    "papermill": {
     "duration": 4.41642,
     "end_time": "2022-01-18T15:52:02.795477",
     "exception": false,
     "start_time": "2022-01-18T15:51:58.379057",
     "status": "completed"
    },
    "tags": []
   },
   "outputs": [
    {
     "name": "stdout",
     "output_type": "stream",
     "text": [
      "Vectorization...\n"
     ]
    }
   ],
   "source": [
    "print('Vectorization...')\n",
    "x_novel = np.zeros((len(novel_seq), maxlen, len(chars)))\n",
    "\n",
    "\n",
    "for i, sentence in enumerate(novel_seq):\n",
    "    for t, char in enumerate(sentence):\n",
    "        x_novel[i, t, char_indices[char]] = 1"
   ]
  },
  {
   "cell_type": "code",
   "execution_count": 35,
   "id": "5572314c",
   "metadata": {
    "execution": {
     "iopub.execute_input": "2022-01-18T15:52:11.477750Z",
     "iopub.status.busy": "2022-01-18T15:52:11.476769Z",
     "iopub.status.idle": "2022-01-18T15:52:11.508125Z",
     "shell.execute_reply": "2022-01-18T15:52:11.507569Z",
     "shell.execute_reply.started": "2022-01-08T19:11:56.312089Z"
    },
    "papermill": {
     "duration": 4.41942,
     "end_time": "2022-01-18T15:52:11.508265",
     "exception": false,
     "start_time": "2022-01-18T15:52:07.088845",
     "status": "completed"
    },
    "tags": []
   },
   "outputs": [],
   "source": [
    "X_class = np.concatenate([x_neg, x_pos])\n",
    "Y_class = np.concatenate([y_neg, y_pos])"
   ]
  },
  {
   "cell_type": "code",
   "execution_count": 36,
   "id": "fbcfe9ce",
   "metadata": {
    "execution": {
     "iopub.execute_input": "2022-01-18T15:52:20.147552Z",
     "iopub.status.busy": "2022-01-18T15:52:20.146852Z",
     "iopub.status.idle": "2022-01-18T15:52:20.453916Z",
     "shell.execute_reply": "2022-01-18T15:52:20.453403Z",
     "shell.execute_reply.started": "2022-01-08T19:11:56.328859Z"
    },
    "papermill": {
     "duration": 4.655399,
     "end_time": "2022-01-18T15:52:20.454074",
     "exception": false,
     "start_time": "2022-01-18T15:52:15.798675",
     "status": "completed"
    },
    "tags": []
   },
   "outputs": [
    {
     "data": {
      "text/plain": [
       "<AxesSubplot:ylabel='count'>"
      ]
     },
     "execution_count": 36,
     "metadata": {},
     "output_type": "execute_result"
    },
    {
     "data": {
      "image/png": "[encoded data removed]",
      "text/plain": [
       "<Figure size 432x288 with 1 Axes>"
      ]
     },
     "metadata": {
      "needs_background": "light"
     },
     "output_type": "display_data"
    }
   ],
   "source": [
    "import seaborn as sns\n",
    "\n",
    "sns.countplot(Y_class.reshape(-1, ))"
   ]
  },
  {
   "cell_type": "code",
   "execution_count": 37,
   "id": "b216bebf",
   "metadata": {
    "execution": {
     "iopub.execute_input": "2022-01-18T15:52:29.148511Z",
     "iopub.status.busy": "2022-01-18T15:52:29.146501Z",
     "iopub.status.idle": "2022-01-18T15:52:29.168392Z",
     "shell.execute_reply": "2022-01-18T15:52:29.168949Z",
     "shell.execute_reply.started": "2022-01-08T19:11:56.560027Z"
    },
    "papermill": {
     "duration": 4.372906,
     "end_time": "2022-01-18T15:52:29.169127",
     "exception": false,
     "start_time": "2022-01-18T15:52:24.796221",
     "status": "completed"
    },
    "tags": []
   },
   "outputs": [],
   "source": [
    "from sklearn.model_selection import train_test_split\n",
    "X_class_train, X_class_val, Y_class_train, Y_class_val = train_test_split(X_class, Y_class, train_size = 0.8, random_state = 11)"
   ]
  },
  {
   "cell_type": "markdown",
   "id": "f0d3e1d8",
   "metadata": {
    "papermill": {
     "duration": 4.354719,
     "end_time": "2022-01-18T15:52:37.835499",
     "exception": false,
     "start_time": "2022-01-18T15:52:33.480780",
     "status": "completed"
    },
    "tags": []
   },
   "source": [
    "## Classification Model"
   ]
  },
  {
   "cell_type": "code",
   "execution_count": 38,
   "id": "79e2575f",
   "metadata": {
    "execution": {
     "iopub.execute_input": "2022-01-18T15:52:46.520772Z",
     "iopub.status.busy": "2022-01-18T15:52:46.519752Z",
     "iopub.status.idle": "2022-01-18T15:52:47.128979Z",
     "shell.execute_reply": "2022-01-18T15:52:47.129439Z",
     "shell.execute_reply.started": "2022-01-08T19:15:22.946888Z"
    },
    "papermill": {
     "duration": 5.001217,
     "end_time": "2022-01-18T15:52:47.129615",
     "exception": false,
     "start_time": "2022-01-18T15:52:42.128398",
     "status": "completed"
    },
    "tags": []
   },
   "outputs": [
    {
     "name": "stdout",
     "output_type": "stream",
     "text": [
      "Build models...\n",
      "Build Successful.\n",
      "Compiling Models...\n",
      "Compile Successful.\n"
     ]
    }
   ],
   "source": [
    "print('Build models...')\n",
    "\n",
    "class_model = Sequential()\n",
    "\n",
    "class_model.add(LSTM(512, input_shape=(maxlen, len(chars)), return_sequences = True))\n",
    "class_model.add(LSTM(256, return_sequences = True))\n",
    "class_model.add(tf.keras.layers.Flatten())\n",
    "# class_model.add(Dense(512, activation = 'relu'))\n",
    "class_model.add(Dense(1, activation = 'sigmoid'))\n",
    "\n",
    " \n",
    "\n",
    "print(\"Build Successful.\")\n",
    "print(\"Compiling Models...\")\n",
    "\n",
    "optimizer = tf.keras.optimizers.Adam(learning_rate = 0.01)\n",
    "class_model.compile(loss='binary_crossentropy', optimizer=optimizer, metrics = ['accuracy'])\n",
    "    \n",
    "print(\"Compile Successful.\")"
   ]
  },
  {
   "cell_type": "code",
   "execution_count": 39,
   "id": "fd37a1ec",
   "metadata": {
    "execution": {
     "iopub.execute_input": "2022-01-18T15:52:55.860546Z",
     "iopub.status.busy": "2022-01-18T15:52:55.859880Z",
     "iopub.status.idle": "2022-01-18T16:10:21.097335Z",
     "shell.execute_reply": "2022-01-18T16:10:21.096433Z",
     "shell.execute_reply.started": "2022-01-08T19:15:23.505968Z"
    },
    "papermill": {
     "duration": 1049.683702,
     "end_time": "2022-01-18T16:10:21.097515",
     "exception": false,
     "start_time": "2022-01-18T15:52:51.413813",
     "status": "completed"
    },
    "scrolled": true,
    "tags": []
   },
   "outputs": [
    {
     "name": "stdout",
     "output_type": "stream",
     "text": [
      "Epoch 1/25\n",
      "396/396 [==============================] - 46s 106ms/step - loss: 0.6578 - accuracy: 0.6532 - val_loss: 0.5696 - val_accuracy: 0.7162\n",
      "Epoch 2/25\n",
      "396/396 [==============================] - 42s 106ms/step - loss: 0.5707 - accuracy: 0.7068 - val_loss: 0.5767 - val_accuracy: 0.7288\n",
      "Epoch 3/25\n",
      "396/396 [==============================] - 42s 105ms/step - loss: 0.5025 - accuracy: 0.7743 - val_loss: 0.4626 - val_accuracy: 0.7914\n",
      "Epoch 4/25\n",
      "396/396 [==============================] - 42s 107ms/step - loss: 0.4135 - accuracy: 0.8214 - val_loss: 0.4037 - val_accuracy: 0.8249\n",
      "Epoch 5/25\n",
      "396/396 [==============================] - 43s 109ms/step - loss: 0.3822 - accuracy: 0.8381 - val_loss: 0.3817 - val_accuracy: 0.8401\n",
      "Epoch 6/25\n",
      "396/396 [==============================] - 42s 105ms/step - loss: 0.3511 - accuracy: 0.8535 - val_loss: 0.3681 - val_accuracy: 0.8439\n",
      "Epoch 7/25\n",
      "396/396 [==============================] - 42s 106ms/step - loss: 0.3256 - accuracy: 0.8637 - val_loss: 0.3796 - val_accuracy: 0.8489\n",
      "Epoch 8/25\n",
      "396/396 [==============================] - 41s 103ms/step - loss: 0.3051 - accuracy: 0.8745 - val_loss: 0.3802 - val_accuracy: 0.8401\n",
      "Epoch 9/25\n",
      "396/396 [==============================] - 42s 107ms/step - loss: 0.2801 - accuracy: 0.8851 - val_loss: 0.3536 - val_accuracy: 0.8603\n",
      "Epoch 10/25\n",
      "396/396 [==============================] - 42s 105ms/step - loss: 0.2500 - accuracy: 0.8984 - val_loss: 0.3652 - val_accuracy: 0.8496\n",
      "Epoch 11/25\n",
      "396/396 [==============================] - 41s 104ms/step - loss: 0.2343 - accuracy: 0.9075 - val_loss: 0.3677 - val_accuracy: 0.8641\n",
      "Epoch 12/25\n",
      "396/396 [==============================] - 42s 106ms/step - loss: 0.2031 - accuracy: 0.9167 - val_loss: 0.4087 - val_accuracy: 0.8666\n",
      "Epoch 13/25\n",
      "396/396 [==============================] - 41s 104ms/step - loss: 0.1856 - accuracy: 0.9281 - val_loss: 0.4327 - val_accuracy: 0.8293\n",
      "Epoch 14/25\n",
      "396/396 [==============================] - 41s 105ms/step - loss: 0.1533 - accuracy: 0.9402 - val_loss: 0.4573 - val_accuracy: 0.8382\n",
      "Epoch 15/25\n",
      "396/396 [==============================] - 41s 104ms/step - loss: 0.1453 - accuracy: 0.9431 - val_loss: 0.4793 - val_accuracy: 0.8451\n",
      "Epoch 16/25\n",
      "396/396 [==============================] - 42s 106ms/step - loss: 0.1235 - accuracy: 0.9534 - val_loss: 0.4533 - val_accuracy: 0.8578\n",
      "Epoch 17/25\n",
      "396/396 [==============================] - 41s 102ms/step - loss: 0.1042 - accuracy: 0.9597 - val_loss: 0.4885 - val_accuracy: 0.8609\n",
      "Epoch 18/25\n",
      "396/396 [==============================] - 42s 105ms/step - loss: 0.0919 - accuracy: 0.9670 - val_loss: 0.5116 - val_accuracy: 0.8534\n",
      "Epoch 19/25\n",
      "396/396 [==============================] - 42s 107ms/step - loss: 0.0953 - accuracy: 0.9625 - val_loss: 0.5151 - val_accuracy: 0.8590\n",
      "Epoch 20/25\n",
      "396/396 [==============================] - 41s 103ms/step - loss: 0.0981 - accuracy: 0.9614 - val_loss: 0.5159 - val_accuracy: 0.8654\n",
      "Epoch 21/25\n",
      "396/396 [==============================] - 41s 104ms/step - loss: 0.0950 - accuracy: 0.9613 - val_loss: 0.5462 - val_accuracy: 0.8597\n",
      "Epoch 22/25\n",
      "396/396 [==============================] - 43s 108ms/step - loss: 0.0861 - accuracy: 0.9660 - val_loss: 0.5480 - val_accuracy: 0.8673\n",
      "Epoch 23/25\n",
      "396/396 [==============================] - 41s 104ms/step - loss: 0.0782 - accuracy: 0.9693 - val_loss: 0.5882 - val_accuracy: 0.8698\n",
      "Epoch 24/25\n",
      "396/396 [==============================] - 41s 103ms/step - loss: 0.0719 - accuracy: 0.9696 - val_loss: 0.5694 - val_accuracy: 0.8685\n",
      "Epoch 25/25\n",
      "396/396 [==============================] - 41s 105ms/step - loss: 0.0709 - accuracy: 0.9709 - val_loss: 0.6376 - val_accuracy: 0.8628\n"
     ]
    }
   ],
   "source": [
    "class_his = class_model.fit(X_class_train, Y_class_train, batch_size = 16, epochs = 25, validation_data = (X_class_val, Y_class_val))"
   ]
  },
  {
   "cell_type": "code",
   "execution_count": 40,
   "id": "4fdf2c97",
   "metadata": {
    "execution": {
     "iopub.execute_input": "2022-01-18T16:10:36.000309Z",
     "iopub.status.busy": "2022-01-18T16:10:35.999694Z",
     "iopub.status.idle": "2022-01-18T16:15:13.992510Z",
     "shell.execute_reply": "2022-01-18T16:15:13.991388Z",
     "shell.execute_reply.started": "2022-01-08T19:12:15.560402Z"
    },
    "papermill": {
     "duration": 285.420188,
     "end_time": "2022-01-18T16:15:13.992705",
     "exception": false,
     "start_time": "2022-01-18T16:10:28.572517",
     "status": "completed"
    },
    "tags": []
   },
   "outputs": [],
   "source": [
    "y_novel = []\n",
    "\n",
    "for i in range(x_novel.shape[0]):\n",
    "    \n",
    "    a = class_model.predict(x_novel[i].reshape(1,maxlen, len(chars)))\n",
    "    y_novel.append(a[0][0])"
   ]
  },
  {
   "cell_type": "code",
   "execution_count": 41,
   "id": "39c7eed8",
   "metadata": {
    "execution": {
     "iopub.execute_input": "2022-01-18T16:15:28.915086Z",
     "iopub.status.busy": "2022-01-18T16:15:28.914450Z",
     "iopub.status.idle": "2022-01-18T16:15:28.917175Z",
     "shell.execute_reply": "2022-01-18T16:15:28.916650Z",
     "shell.execute_reply.started": "2022-01-08T19:12:15.562235Z"
    },
    "papermill": {
     "duration": 7.478646,
     "end_time": "2022-01-18T16:15:28.917340",
     "exception": false,
     "start_time": "2022-01-18T16:15:21.438694",
     "status": "completed"
    },
    "tags": []
   },
   "outputs": [],
   "source": [
    "y_05 = [i for i in y_novel if i >= 0.9]"
   ]
  },
  {
   "cell_type": "code",
   "execution_count": 42,
   "id": "f08c6cff",
   "metadata": {
    "execution": {
     "iopub.execute_input": "2022-01-18T16:15:43.812599Z",
     "iopub.status.busy": "2022-01-18T16:15:43.811879Z",
     "iopub.status.idle": "2022-01-18T16:15:43.815404Z",
     "shell.execute_reply": "2022-01-18T16:15:43.814734Z",
     "shell.execute_reply.started": "2022-01-08T19:12:15.563942Z"
    },
    "papermill": {
     "duration": 7.524542,
     "end_time": "2022-01-18T16:15:43.815547",
     "exception": false,
     "start_time": "2022-01-18T16:15:36.291005",
     "status": "completed"
    },
    "tags": []
   },
   "outputs": [
    {
     "data": {
      "text/plain": [
       "3676"
      ]
     },
     "execution_count": 42,
     "metadata": {},
     "output_type": "execute_result"
    }
   ],
   "source": [
    "len(y_05)"
   ]
  },
  {
   "cell_type": "markdown",
   "id": "da97d40d",
   "metadata": {
    "papermill": {
     "duration": 7.383014,
     "end_time": "2022-01-18T16:15:58.655567",
     "exception": false,
     "start_time": "2022-01-18T16:15:51.272553",
     "status": "completed"
    },
    "tags": []
   },
   "source": [
    "---\n",
    "---\n",
    "---\n",
    "---\n",
    "---\n",
    "---\n",
    "---\n",
    "---\n",
    "---\n",
    "---\n"
   ]
  },
  {
   "cell_type": "code",
   "execution_count": null,
   "id": "2fc1d3d9",
   "metadata": {
    "papermill": {
     "duration": 7.396413,
     "end_time": "2022-01-18T16:16:13.435177",
     "exception": false,
     "start_time": "2022-01-18T16:16:06.038764",
     "status": "completed"
    },
    "tags": []
   },
   "outputs": [],
   "source": []
  },
  {
   "cell_type": "code",
   "execution_count": null,
   "id": "4dd9b988",
   "metadata": {
    "papermill": {
     "duration": 7.395576,
     "end_time": "2022-01-18T16:16:28.249540",
     "exception": false,
     "start_time": "2022-01-18T16:16:20.853964",
     "status": "completed"
    },
    "tags": []
   },
   "outputs": [],
   "source": []
  },
  {
   "cell_type": "code",
   "execution_count": null,
   "id": "95459cac",
   "metadata": {
    "papermill": {
     "duration": 7.355093,
     "end_time": "2022-01-18T16:16:42.967091",
     "exception": false,
     "start_time": "2022-01-18T16:16:35.611998",
     "status": "completed"
    },
    "tags": []
   },
   "outputs": [],
   "source": []
  },
  {
   "cell_type": "code",
   "execution_count": null,
   "id": "2ddc6a44",
   "metadata": {
    "papermill": {
     "duration": 7.399824,
     "end_time": "2022-01-18T16:16:57.776003",
     "exception": false,
     "start_time": "2022-01-18T16:16:50.376179",
     "status": "completed"
    },
    "tags": []
   },
   "outputs": [],
   "source": []
  },
  {
   "cell_type": "code",
   "execution_count": null,
   "id": "4e170fa7",
   "metadata": {
    "papermill": {
     "duration": 7.311452,
     "end_time": "2022-01-18T16:17:12.436261",
     "exception": false,
     "start_time": "2022-01-18T16:17:05.124809",
     "status": "completed"
    },
    "tags": []
   },
   "outputs": [],
   "source": []
  },
  {
   "cell_type": "code",
   "execution_count": null,
   "id": "e1603306",
   "metadata": {
    "papermill": {
     "duration": 7.375574,
     "end_time": "2022-01-18T16:17:27.277321",
     "exception": false,
     "start_time": "2022-01-18T16:17:19.901747",
     "status": "completed"
    },
    "tags": []
   },
   "outputs": [],
   "source": []
  },
  {
   "cell_type": "code",
   "execution_count": null,
   "id": "17794734",
   "metadata": {
    "papermill": {
     "duration": 7.379058,
     "end_time": "2022-01-18T16:17:42.088829",
     "exception": false,
     "start_time": "2022-01-18T16:17:34.709771",
     "status": "completed"
    },
    "tags": []
   },
   "outputs": [],
   "source": []
  },
  {
   "cell_type": "code",
   "execution_count": null,
   "id": "a3881012",
   "metadata": {
    "papermill": {
     "duration": 7.336891,
     "end_time": "2022-01-18T16:17:56.734403",
     "exception": false,
     "start_time": "2022-01-18T16:17:49.397512",
     "status": "completed"
    },
    "tags": []
   },
   "outputs": [],
   "source": []
  },
  {
   "cell_type": "code",
   "execution_count": null,
   "id": "f4d63b21",
   "metadata": {
    "papermill": {
     "duration": 7.310705,
     "end_time": "2022-01-18T16:18:11.537882",
     "exception": false,
     "start_time": "2022-01-18T16:18:04.227177",
     "status": "completed"
    },
    "tags": []
   },
   "outputs": [],
   "source": []
  },
  {
   "cell_type": "code",
   "execution_count": 43,
   "id": "9003babd",
   "metadata": {
    "execution": {
     "iopub.execute_input": "2022-01-18T16:18:26.302821Z",
     "iopub.status.busy": "2022-01-18T16:18:26.302049Z",
     "iopub.status.idle": "2022-01-18T16:18:26.305002Z",
     "shell.execute_reply": "2022-01-18T16:18:26.304527Z",
     "shell.execute_reply.started": "2022-01-18T14:44:30.908512Z"
    },
    "papermill": {
     "duration": 7.417067,
     "end_time": "2022-01-18T16:18:26.305139",
     "exception": false,
     "start_time": "2022-01-18T16:18:18.888072",
     "status": "completed"
    },
    "scrolled": true,
    "tags": []
   },
   "outputs": [],
   "source": [
    "\n",
    "\n",
    "\n",
    "\n",
    "\n",
    "\n",
    "# # In below cell we will make dataset for 6 classification model\n",
    "\n",
    "# - 1st model : This Model will be trained on positive data having MIC <= 100 and negative data from AMP database\n",
    "# - 2nd model : This Model will be trained on positive data having MIC <= 50 and negative data from AMP database\n",
    "# - 3rd model : This Model will be trained on positive data having MIC <= 10 and negative data from AMP database\n",
    "# - 4th model : This Model will be trained on positive data having MIC <= 100 and negative data from uniprot database\n",
    "# - 5th model : This Model will be trained on positive data having MIC <= 50 and negative data from uniprot database\n",
    "# - 6th model : This Model will be trained on positive data having MIC <= 10 and negative data from uniprot database\n",
    "\n",
    "\n",
    "\n",
    "\n",
    "\n",
    "\n",
    "\n",
    "\n",
    "# tqdm.pandas()\n",
    "\n",
    "# sequences_pos_100 = list(df_class_pos[df_class_pos.MIC <= 100].PepSeq.progress_apply(splitter))\n",
    "# sequences_neg_amp_100 = list(df_class_amp[df_class_amp.MIC <= 100].PepSeq.progress_apply(splitter))\n",
    "# sequences_neg_uniprot_100 = list(df_class_uniprot[df_class_uniprot.MIC <= 100].PepSeq.progress_apply(splitter))\n",
    "\n",
    "\n",
    "# sequences_pos_50 = list(df_class_pos[df_class_pos.MIC <= 50].PepSeq.progress_apply(splitter))\n",
    "# sequences_neg_amp_50 = list(df_class_amp[df_class_amp.MIC <= 50].PepSeq.progress_apply(splitter))\n",
    "# sequences_neg_uniprot_50 = list(df_class_uniprot[df_class_uniprot.MIC <= 50].PepSeq.progress_apply(splitter))\n",
    "\n",
    "\n",
    "# sequences_pos_10 = list(df_class_pos[df_class_pos.MIC <= 10].PepSeq.progress_apply(splitter))\n",
    "# sequences_neg_amp_10 = list(df_class_amp[df_class_amp.MIC <= 10].PepSeq.progress_apply(splitter))\n",
    "# sequences_neg_uniprot_10 = list(df_class_uniprot[df_class_uniprot.MIC <= 10].PepSeq.progress_apply(splitter))\n",
    "\n",
    "\n",
    "\n",
    "\n",
    "# print(f\"Positive data having MIC <= 100 : {len(sequences_pos_100)}\")\n",
    "# print(f\"Positive data having MIC <= 50 : {len(sequences_pos_50)}\")\n",
    "# print(f\"Positive data having MIC <= 10 : {len(sequences_pos_10)}\")\n",
    "# print(f\"Negative data from AMP Database having MIC <= 100 : {len(sequences_neg_amp_100)}\")\n",
    "# print(f\"Positive data from AMP Database having MIC <= 50 : {len(sequences_neg_amp_50)}\")\n",
    "# print(f\"Positive data from AMP Database having MIC <= 10 : {len(sequences_neg_amp_10)}\")\n",
    "# print(f\"Negative data from uniprot Database having MIC <= 100 : {len(sequences_neg_uniprot_100)}\")\n",
    "# print(f\"Positive data from uniprot Database having MIC <= 50 : {len(sequences_neg_uniprot_50)}\")\n",
    "# print(f\"Positive data from uniprot Database having MIC <= 10 : {len(sequences_neg_uniprot_10)}\")\n",
    "\n",
    "\n",
    "\n",
    "\n",
    "\n",
    "# def vectorizer(sequences, class_):\n",
    "    \n",
    "#     x = np.zeros((len(sequences), maxlen, len(chars)))\n",
    "#     y = np.zeros((len(sequences), 1))\n",
    "\n",
    "#     for i, sequence in enumerate(sequences):\n",
    "#         for t, char in enumerate(sequence):\n",
    "#             x[i, t, char_indices[char]] = 1\n",
    "    \n",
    "#     if class_ == 1:\n",
    "#         for i, _ in enumerate(sequences):\n",
    "#             y[i] = 1\n",
    "    \n",
    "#     elif class_ == 0:\n",
    "#         for i, _ in enumerate(sequences):\n",
    "#             y[i] = 0\n",
    "        \n",
    "#     return x, y\n",
    "\n",
    "\n",
    "\n",
    "\n",
    "\n",
    "\n",
    "\n",
    "\n",
    "# x_pos_100, y_pos_100 = vectorizer(sequences_pos_100, 1)\n",
    "# x_pos_50, y_pos_50 = vectorizer(sequences_pos_50, 1)\n",
    "# x_pos_10, y_pos_10 = vectorizer(sequences_pos_10, 1)\n",
    "\n",
    "# x_neg_amp_100, y_neg_amp_100 = vectorizer(sequences_neg_amp_100, 0)\n",
    "# x_neg_amp_50, y_neg_amp_50 = vectorizer(sequences_neg_amp_50, 0)\n",
    "# x_neg_amp_10, y_neg_amp_10 = vectorizer(sequences_neg_amp_10, 0)\n",
    "\n",
    "# x_neg_uniprot_100, y_neg_uniprot_100 = vectorizer(sequences_neg_uniprot_100, 0)\n",
    "# x_neg_uniprot_50, y_neg_uniprot_50 = vectorizer(sequences_neg_uniprot_50, 0)\n",
    "# x_neg_uniprot_10, y_neg_uniprot_10 = vectorizer(sequences_neg_uniprot_10, 0)\n",
    "\n",
    "\n",
    "\n",
    "\n",
    "\n",
    "\n",
    "\n",
    "\n",
    "\n",
    "# x_amp_100 = np.concatenate([x_pos_100, x_neg_amp_100], axis = 0)\n",
    "# x_amp_50 = np.concatenate([x_pos_50, x_neg_amp_50], axis = 0)\n",
    "# x_amp_10 = np.concatenate([x_pos_10, x_neg_amp_10], axis = 0)\n",
    "\n",
    "# y_amp_100 = np.concatenate([y_pos_100, y_neg_amp_100], axis = 0)\n",
    "# y_amp_50 = np.concatenate([y_pos_50, y_neg_amp_50], axis = 0)\n",
    "# y_amp_10 = np.concatenate([y_pos_10, y_neg_amp_10], axis = 0)\n",
    "\n",
    "# x_uniprot_100 = np.concatenate([x_pos_100, x_neg_uniprot_100], axis = 0)\n",
    "# x_uniprot_50 = np.concatenate([x_pos_50, x_neg_uniprot_50], axis = 0)\n",
    "# x_uniprot_10 = np.concatenate([x_pos_10, x_neg_uniprot_10], axis = 0)\n",
    "\n",
    "# y_uniprot_100 = np.concatenate([y_pos_100, y_neg_uniprot_100], axis = 0)\n",
    "# y_uniprot_50 = np.concatenate([y_pos_50, y_neg_uniprot_50], axis = 0)\n",
    "# y_uniprot_10 = np.concatenate([y_pos_10, y_neg_uniprot_10], axis = 0)\n",
    "\n",
    "\n",
    "\n",
    "\n",
    "# def get_class_model():\n",
    "#     model = Sequential()\n",
    "#     model.add(LSTM(512, input_shape=(maxlen, len(chars))))\n",
    "#     model.add(LSTM(256, return_sequences = True))\n",
    "#     model.add(tf.keras.layers.Flatten())\n",
    "#     model.add(Dense(512, activation = 'relu'))\n",
    "#     model.add(Dense(1, activation = 'sigmoid'))\n",
    "    \n",
    "# #     model.name(stname)\n",
    "    \n",
    "#     return model\n",
    "\n",
    "\n",
    "\n",
    "\n",
    "\n",
    "\n",
    "# all_data = [(x_amp_100, y_amp_100), (x_amp_50, y_amp_50), (x_amp_10, y_amp_10), (x_uniprot_100, y_uniprot_100), (x_uniprot_50, y_uniprot_50), (x_uniprot_10, y_uniprot_10)]\n",
    "# models_name = ['model_amp_100', 'model_amp_50', 'model_amp_10', 'model_uniprot_100', 'model_uniprot_50', 'model_uniprot_10']\n",
    "\n",
    "# class_history = {}\n",
    "# class_models = {}\n",
    "# for m, data in zip(models_name, all_data):\n",
    "#     X_class_train, X_class_val, Y_class_train, Y_class_val = train_test_split(data[0], data[1], train_size = 0.8, random_state = 11)    \n",
    "    \n",
    "#     model = get_class_model()\n",
    "#     optimizer = tf.keras.optimizers.Adam(learning_rate = 0.01)\n",
    "#     model.compile(loss='binary_crossentropy', optimizer=optimizer, metrics = ['accuracy'])\n",
    "#     print(f\"*********************************************************************************************\")    \n",
    "#     print(f\"*************************** Training of Model {m} Starts ************************************\")\n",
    "#     class_his = model.fit(X_class_train, Y_class_train, batch_size = 16, epochs = 25, validation_data = (X_class_val, Y_class_val))\n",
    "        \n",
    "#     class_models[m] = model\n",
    "#     class_history[m] = class_his\n",
    "#     print(f\"*********************************************************************************************\")    \n",
    "#     print(f\"*************************** Training of Model {m} Ends ************************************\")"
   ]
  },
  {
   "cell_type": "code",
   "execution_count": null,
   "id": "b2cba351",
   "metadata": {
    "papermill": {
     "duration": 7.375391,
     "end_time": "2022-01-18T16:18:41.116174",
     "exception": false,
     "start_time": "2022-01-18T16:18:33.740783",
     "status": "completed"
    },
    "tags": []
   },
   "outputs": [],
   "source": []
  },
  {
   "cell_type": "code",
   "execution_count": null,
   "id": "6cda6ce6",
   "metadata": {
    "papermill": {
     "duration": 7.393693,
     "end_time": "2022-01-18T16:18:55.868841",
     "exception": false,
     "start_time": "2022-01-18T16:18:48.475148",
     "status": "completed"
    },
    "tags": []
   },
   "outputs": [],
   "source": []
  },
  {
   "cell_type": "code",
   "execution_count": null,
   "id": "87c074e9",
   "metadata": {
    "papermill": {
     "duration": 7.445455,
     "end_time": "2022-01-18T16:19:10.719794",
     "exception": false,
     "start_time": "2022-01-18T16:19:03.274339",
     "status": "completed"
    },
    "tags": []
   },
   "outputs": [],
   "source": []
  },
  {
   "cell_type": "code",
   "execution_count": null,
   "id": "8c700d7e",
   "metadata": {
    "papermill": {
     "duration": 7.374625,
     "end_time": "2022-01-18T16:19:25.458839",
     "exception": false,
     "start_time": "2022-01-18T16:19:18.084214",
     "status": "completed"
    },
    "tags": []
   },
   "outputs": [],
   "source": []
  },
  {
   "cell_type": "code",
   "execution_count": null,
   "id": "869538cd",
   "metadata": {
    "papermill": {
     "duration": 7.428919,
     "end_time": "2022-01-18T16:19:40.254714",
     "exception": false,
     "start_time": "2022-01-18T16:19:32.825795",
     "status": "completed"
    },
    "tags": []
   },
   "outputs": [],
   "source": []
  },
  {
   "cell_type": "code",
   "execution_count": null,
   "id": "8ea984ce",
   "metadata": {
    "papermill": {
     "duration": 7.313519,
     "end_time": "2022-01-18T16:19:54.920842",
     "exception": false,
     "start_time": "2022-01-18T16:19:47.607323",
     "status": "completed"
    },
    "tags": []
   },
   "outputs": [],
   "source": []
  }
 ],
 "metadata": {
  "kernelspec": {
   "display_name": "Python 3",
   "language": "python",
   "name": "python3"
  },
  "language_info": {
   "codemirror_mode": {
    "name": "ipython",
    "version": 3
   },
   "file_extension": ".py",
   "mimetype": "text/x-python",
   "name": "python",
   "nbconvert_exporter": "python",
   "pygments_lexer": "ipython3",
   "version": "3.7.12"
  },
  "papermill": {
   "default_parameters": {},
   "duration": 4512.848896,
   "end_time": "2022-01-18T16:20:05.732503",
   "environment_variables": {},
   "exception": null,
   "input_path": "__notebook__.ipynb",
   "output_path": "__notebook__.ipynb",
   "parameters": {},
   "start_time": "2022-01-18T15:04:52.883607",
   "version": "2.3.3"
  }
 },
 "nbformat": 4,
 "nbformat_minor": 5
}
